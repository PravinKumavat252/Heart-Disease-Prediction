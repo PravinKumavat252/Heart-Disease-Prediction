{
 "cells": [
  {
   "cell_type": "markdown",
   "id": "bb915609",
   "metadata": {},
   "source": [
    "# **Heart Disease Project**\n"
   ]
  },
  {
   "cell_type": "markdown",
   "id": "d20b96bc",
   "metadata": {},
   "source": [
    "- **Author: Kumavat Pravin Suresh**\n",
    "- **date: 12/june/2025**\n",
    "- **Dataset: Heart Disease UCI**\n",
    "- **Linkedin: https://www.linkedin.com/in/pravin-kumavat-76072531b/**\n",
    "- **Githuh: https://github.com/PravinKumavat252**\n",
    "- **Kaggle: https://www.kaggle.com/pravinkumawat**\n"
   ]
  },
  {
   "cell_type": "markdown",
   "id": "c2a304ce",
   "metadata": {},
   "source": [
    "## **Meta-Data (About Dataset)**\n",
    "\n",
    "### **Context**\n",
    "\n",
    "This is a multivariate type of dataset which means providing or involving a variety of separate mathematical or statistical variables, multivariate numerical data analysis. It is composed of 14 attributes which are age, sex, chest pain type, resting blood pressure, serum cholesterol, fasting blood sugar, resting electrocardiographic results, maximum heart rate achieved, exercise-induced angina, oldpeak — ST depression induced by exercise relative to rest, the slope of the peak exercise ST segment, number of major vessels and Thalassemia. This database includes 76 attributes, but all published studies relate to the use of a subset of 14 of them. The Cleveland database is the only one used by ML researchers to date. One of the major tasks on this dataset is to predict based on the given attributes of a patient that whether that particular person has heart disease or not and other is the experimental task to diagnose and find out various insights from this dataset which could help in understanding the problem more.\n",
    "\n",
    "### **Content**\n",
    "\n",
    "#### Column Descriptions:\n",
    "\n",
    "- **id** (Unique id for each patient)\n",
    "- **age** (Age of the patient in years)\n",
    "- **origin** (place of study)\n",
    "- **sex** (Male/Female)\n",
    "- **cp** chest pain type typical\n",
    "  1.  angina\n",
    "  2.  atypical angina\n",
    "  3.  non-anginal\n",
    "  4.  asymptomatic\n",
    "- **trestbps** resting blood pressure (resting blood pressure (in mm Hg on admission to the hospital))\n",
    "- **chol** (serum cholesterol in mg/dl)\n",
    "- **fbs** (if fasting blood sugar > 120 mg/dl)\n",
    "- **restecg** (resting electrocardiographic results)\n",
    "- -- Values: [normal, stt abnormality, lv hypertrophy]\n",
    "- **thalach**: maximum heart rate achieved\n",
    "- **exang**: exercise-induced angina (True/ False)\n",
    "- **oldpeak**: ST depression induced by exercise relative to rest\n",
    "- **slope**: the slope of the peak exercise ST segment\n",
    "- **ca**: number of major vessels (0-3) colored by fluoroscopy\n",
    "- **thal**: [normal; fixed defect; reversible defect]\n",
    "- **num**: the predicted attribute\n",
    "\n",
    "### **Acknowledgements**\n",
    "\n",
    "#### Creators:\n",
    "\n",
    "- Hungarian Institute of Cardiology. Budapest: Andras Janosi, M.D.\n",
    "- University Hospital, Zurich, Switzerland: William Steinbrunn, M.D.\n",
    "- University Hospital, Basel, Switzerland: Matthias Pfisterer, M.D.\n",
    "- V.A. Medical Center, Long Beach and Cleveland Clinic Foundation: Robert Detrano, M.D., Ph.D.\n",
    "\n",
    "#### Relevant Papers:\n",
    "\n",
    "- Detrano, R., Janosi, A., Steinbrunn, W., Pfisterer, M., Schmid, J., Sandhu, S., Guppy, K., Lee, S., & Froelicher, V. (1989). International application of a new probability algorithm for the diagnosis of coronary artery disease. American Journal of Cardiology, 64,304--310.\n",
    "- David W. Aha & Dennis Kibler. \"Instance-based prediction of heart-disease presence with the Cleveland database.\"\n",
    "- Gennari, J.H., Langley, P, & Fisher, D. (1989). Models of incremental concept formation. Artificial Intelligence, 40, 11--61.\n",
    "\n",
    "#### Citation Request:\n",
    "\n",
    "The authors of the databases have requested that any publications resulting from the use of the data include the names of the principal investigator responsible for the data collection at each institution. They would be:\n",
    "\n",
    "- Hungarian Institute of Cardiology. Budapest: Andras Janosi, M.D.\n",
    "- University Hospital, Zurich, Switzerland: William Steinbrunn, M.D.\n",
    "- University Hospital, Basel, Switzerland: Matthias Pfisterer, M.D.\n",
    "- V.A. Medical Center, Long Beach and Cleveland Clinic Foundation:Robert Detrano, M.D., Ph.D.\n"
   ]
  },
  {
   "cell_type": "markdown",
   "id": "d5760d72",
   "metadata": {},
   "source": [
    "## Aims and Objective:\n",
    "\n",
    "We will fill this after doing some Explotary Data Analysis (EDA).\n"
   ]
  },
  {
   "cell_type": "markdown",
   "id": "65c74ed1",
   "metadata": {},
   "source": [
    "## Import The Libraries\n",
    "\n",
    "Let's start the project by importing all the libraries that we will need in this project\n"
   ]
  },
  {
   "cell_type": "code",
   "execution_count": 1,
   "id": "6ebaec0a",
   "metadata": {},
   "outputs": [],
   "source": [
    "# Import the  libraries\n",
    "\n",
    "# to handle the data \n",
    "import pandas as pd\n",
    "import numpy as np\n",
    "\n",
    "# to visualize the data \n",
    "import matplotlib.pyplot as plt\n",
    "import seaborn as sns\n",
    "import plotly.express as px \n",
    "\n",
    "# for feature selection and preprocessing \n",
    "from sklearn.preprocessing import LabelEncoder, OneHotEncoder, OrdinalEncoder\n",
    "from sklearn.preprocessing import StandardScaler\n",
    "from sklearn.impute import SimpleImputer, KNNImputer\n",
    "# Import iterative imputer\n",
    "from sklearn.experimental import enable_iterative_imputer \n",
    "from sklearn.impute import IterativeImputer \n",
    "\n",
    "# Machine Learning\n",
    "from sklearn.model_selection import train_test_split\n",
    "# for classification tasks \n",
    "from sklearn.linear_model import LogisticRegression\n",
    "from sklearn.tree import DecisionTreeClassifier, plot_tree\n",
    "from sklearn.ensemble import RandomForestClassifier\n",
    "from sklearn.svm import SVC \n",
    "from sklearn.neighbors import KNeighborsClassifier \n",
    "from sklearn.naive_bayes import GaussianNB \n",
    "from sklearn.ensemble import GradientBoostingClassifier, AdaBoostClassifier\n",
    "from xgboost import XGBClassifier \n",
    "from sklearn.model_selection import GridSearchCV, RandomizedSearchCV\n",
    "# matrix\n",
    "from sklearn.model_selection import cross_val_score \n",
    "from sklearn.metrics import accuracy_score, confusion_matrix, classification_report \n",
    "\n",
    "# ignore warnings \n",
    "import warnings \n",
    "warnings.filterwarnings('ignore') \n",
    "\n",
    "# to design the text\n",
    "from IPython.display import display, HTML"
   ]
  },
  {
   "cell_type": "markdown",
   "id": "37ade095",
   "metadata": {},
   "source": [
    "## Load The Dataset\n"
   ]
  },
  {
   "cell_type": "code",
   "execution_count": 2,
   "id": "c5fb64ca",
   "metadata": {},
   "outputs": [
    {
     "data": {
      "text/html": [
       "<div>\n",
       "<style scoped>\n",
       "    .dataframe tbody tr th:only-of-type {\n",
       "        vertical-align: middle;\n",
       "    }\n",
       "\n",
       "    .dataframe tbody tr th {\n",
       "        vertical-align: top;\n",
       "    }\n",
       "\n",
       "    .dataframe thead th {\n",
       "        text-align: right;\n",
       "    }\n",
       "</style>\n",
       "<table border=\"1\" class=\"dataframe\">\n",
       "  <thead>\n",
       "    <tr style=\"text-align: right;\">\n",
       "      <th></th>\n",
       "      <th>id</th>\n",
       "      <th>age</th>\n",
       "      <th>sex</th>\n",
       "      <th>dataset</th>\n",
       "      <th>cp</th>\n",
       "      <th>trestbps</th>\n",
       "      <th>chol</th>\n",
       "      <th>fbs</th>\n",
       "      <th>restecg</th>\n",
       "      <th>thalch</th>\n",
       "      <th>exang</th>\n",
       "      <th>oldpeak</th>\n",
       "      <th>slope</th>\n",
       "      <th>ca</th>\n",
       "      <th>thal</th>\n",
       "      <th>num</th>\n",
       "    </tr>\n",
       "  </thead>\n",
       "  <tbody>\n",
       "    <tr>\n",
       "      <th>0</th>\n",
       "      <td>1</td>\n",
       "      <td>63</td>\n",
       "      <td>Male</td>\n",
       "      <td>Cleveland</td>\n",
       "      <td>typical angina</td>\n",
       "      <td>145.0</td>\n",
       "      <td>233.0</td>\n",
       "      <td>True</td>\n",
       "      <td>lv hypertrophy</td>\n",
       "      <td>150.0</td>\n",
       "      <td>False</td>\n",
       "      <td>2.3</td>\n",
       "      <td>downsloping</td>\n",
       "      <td>0.0</td>\n",
       "      <td>fixed defect</td>\n",
       "      <td>0</td>\n",
       "    </tr>\n",
       "    <tr>\n",
       "      <th>1</th>\n",
       "      <td>2</td>\n",
       "      <td>67</td>\n",
       "      <td>Male</td>\n",
       "      <td>Cleveland</td>\n",
       "      <td>asymptomatic</td>\n",
       "      <td>160.0</td>\n",
       "      <td>286.0</td>\n",
       "      <td>False</td>\n",
       "      <td>lv hypertrophy</td>\n",
       "      <td>108.0</td>\n",
       "      <td>True</td>\n",
       "      <td>1.5</td>\n",
       "      <td>flat</td>\n",
       "      <td>3.0</td>\n",
       "      <td>normal</td>\n",
       "      <td>2</td>\n",
       "    </tr>\n",
       "    <tr>\n",
       "      <th>2</th>\n",
       "      <td>3</td>\n",
       "      <td>67</td>\n",
       "      <td>Male</td>\n",
       "      <td>Cleveland</td>\n",
       "      <td>asymptomatic</td>\n",
       "      <td>120.0</td>\n",
       "      <td>229.0</td>\n",
       "      <td>False</td>\n",
       "      <td>lv hypertrophy</td>\n",
       "      <td>129.0</td>\n",
       "      <td>True</td>\n",
       "      <td>2.6</td>\n",
       "      <td>flat</td>\n",
       "      <td>2.0</td>\n",
       "      <td>reversable defect</td>\n",
       "      <td>1</td>\n",
       "    </tr>\n",
       "    <tr>\n",
       "      <th>3</th>\n",
       "      <td>4</td>\n",
       "      <td>37</td>\n",
       "      <td>Male</td>\n",
       "      <td>Cleveland</td>\n",
       "      <td>non-anginal</td>\n",
       "      <td>130.0</td>\n",
       "      <td>250.0</td>\n",
       "      <td>False</td>\n",
       "      <td>normal</td>\n",
       "      <td>187.0</td>\n",
       "      <td>False</td>\n",
       "      <td>3.5</td>\n",
       "      <td>downsloping</td>\n",
       "      <td>0.0</td>\n",
       "      <td>normal</td>\n",
       "      <td>0</td>\n",
       "    </tr>\n",
       "    <tr>\n",
       "      <th>4</th>\n",
       "      <td>5</td>\n",
       "      <td>41</td>\n",
       "      <td>Female</td>\n",
       "      <td>Cleveland</td>\n",
       "      <td>atypical angina</td>\n",
       "      <td>130.0</td>\n",
       "      <td>204.0</td>\n",
       "      <td>False</td>\n",
       "      <td>lv hypertrophy</td>\n",
       "      <td>172.0</td>\n",
       "      <td>False</td>\n",
       "      <td>1.4</td>\n",
       "      <td>upsloping</td>\n",
       "      <td>0.0</td>\n",
       "      <td>normal</td>\n",
       "      <td>0</td>\n",
       "    </tr>\n",
       "  </tbody>\n",
       "</table>\n",
       "</div>"
      ],
      "text/plain": [
       "   id  age     sex    dataset               cp  trestbps   chol    fbs  \\\n",
       "0   1   63    Male  Cleveland   typical angina     145.0  233.0   True   \n",
       "1   2   67    Male  Cleveland     asymptomatic     160.0  286.0  False   \n",
       "2   3   67    Male  Cleveland     asymptomatic     120.0  229.0  False   \n",
       "3   4   37    Male  Cleveland      non-anginal     130.0  250.0  False   \n",
       "4   5   41  Female  Cleveland  atypical angina     130.0  204.0  False   \n",
       "\n",
       "          restecg  thalch  exang  oldpeak        slope   ca  \\\n",
       "0  lv hypertrophy   150.0  False      2.3  downsloping  0.0   \n",
       "1  lv hypertrophy   108.0   True      1.5         flat  3.0   \n",
       "2  lv hypertrophy   129.0   True      2.6         flat  2.0   \n",
       "3          normal   187.0  False      3.5  downsloping  0.0   \n",
       "4  lv hypertrophy   172.0  False      1.4    upsloping  0.0   \n",
       "\n",
       "                thal  num  \n",
       "0       fixed defect    0  \n",
       "1             normal    2  \n",
       "2  reversable defect    1  \n",
       "3             normal    0  \n",
       "4             normal    0  "
      ]
     },
     "execution_count": 2,
     "metadata": {},
     "output_type": "execute_result"
    }
   ],
   "source": [
    "# load the dataset\n",
    "data = pd.read_csv( r\"C:\\Users\\PRAVIN\\Desktop\\PRAVIN\\Machine Learning\\Heart Disease\\heart_disease_uci.csv\") \n",
    "\n",
    "# Display the first few rows of the dataset \n",
    "data.head() "
   ]
  },
  {
   "cell_type": "markdown",
   "id": "bc830928",
   "metadata": {},
   "source": [
    "## Explotary Data Analysis\n"
   ]
  },
  {
   "cell_type": "markdown",
   "id": "de8574e0",
   "metadata": {},
   "source": [
    "### Explore each column\n"
   ]
  },
  {
   "cell_type": "code",
   "execution_count": 3,
   "id": "9836419d",
   "metadata": {},
   "outputs": [
    {
     "name": "stdout",
     "output_type": "stream",
     "text": [
      "<class 'pandas.core.frame.DataFrame'>\n",
      "RangeIndex: 920 entries, 0 to 919\n",
      "Data columns (total 16 columns):\n",
      " #   Column    Non-Null Count  Dtype  \n",
      "---  ------    --------------  -----  \n",
      " 0   id        920 non-null    int64  \n",
      " 1   age       920 non-null    int64  \n",
      " 2   sex       920 non-null    object \n",
      " 3   dataset   920 non-null    object \n",
      " 4   cp        920 non-null    object \n",
      " 5   trestbps  861 non-null    float64\n",
      " 6   chol      890 non-null    float64\n",
      " 7   fbs       830 non-null    object \n",
      " 8   restecg   918 non-null    object \n",
      " 9   thalch    865 non-null    float64\n",
      " 10  exang     865 non-null    object \n",
      " 11  oldpeak   858 non-null    float64\n",
      " 12  slope     611 non-null    object \n",
      " 13  ca        309 non-null    float64\n",
      " 14  thal      434 non-null    object \n",
      " 15  num       920 non-null    int64  \n",
      "dtypes: float64(5), int64(3), object(8)\n",
      "memory usage: 115.1+ KB\n"
     ]
    }
   ],
   "source": [
    "# exploring the datatype of the each columns \n",
    "data.info() "
   ]
  },
  {
   "cell_type": "code",
   "execution_count": 4,
   "id": "b3c63552",
   "metadata": {},
   "outputs": [
    {
     "data": {
      "text/plain": [
       "(920, 16)"
      ]
     },
     "execution_count": 4,
     "metadata": {},
     "output_type": "execute_result"
    }
   ],
   "source": [
    "# Data shape \n",
    "data.shape "
   ]
  },
  {
   "cell_type": "code",
   "execution_count": 5,
   "id": "0c5c13e4",
   "metadata": {},
   "outputs": [
    {
     "data": {
      "text/plain": [
       "(np.int64(1), np.int64(920))"
      ]
     },
     "execution_count": 5,
     "metadata": {},
     "output_type": "execute_result"
    }
   ],
   "source": [
    "# id column\n",
    "data['id'].min(), data['id'].max() "
   ]
  },
  {
   "cell_type": "code",
   "execution_count": 6,
   "id": "f64a22fd",
   "metadata": {},
   "outputs": [
    {
     "data": {
      "text/plain": [
       "(np.int64(28), np.int64(77))"
      ]
     },
     "execution_count": 6,
     "metadata": {},
     "output_type": "execute_result"
    }
   ],
   "source": [
    "# age column\n",
    "data['age'].min(), data['age'].max()"
   ]
  },
  {
   "cell_type": "code",
   "execution_count": 7,
   "id": "19dd3997",
   "metadata": {},
   "outputs": [
    {
     "data": {
      "text/plain": [
       "count    920.000000\n",
       "mean      53.510870\n",
       "std        9.424685\n",
       "min       28.000000\n",
       "25%       47.000000\n",
       "50%       54.000000\n",
       "75%       60.000000\n",
       "max       77.000000\n",
       "Name: age, dtype: float64"
      ]
     },
     "execution_count": 7,
     "metadata": {},
     "output_type": "execute_result"
    }
   ],
   "source": [
    "# let's summarize the age column\n",
    "data['age'].describe()"
   ]
  },
  {
   "cell_type": "code",
   "execution_count": 8,
   "id": "f152aa83",
   "metadata": {},
   "outputs": [
    {
     "data": {
      "text/plain": [
       "<Axes: xlabel='age', ylabel='Count'>"
      ]
     },
     "execution_count": 8,
     "metadata": {},
     "output_type": "execute_result"
    },
    {
     "data": {
      "image/png": "[encoded data removed]",
      "text/plain": [
       "<Figure size 640x480 with 1 Axes>"
      ]
     },
     "metadata": {},
     "output_type": "display_data"
    }
   ],
   "source": [
    "# Set black background\n",
    "plt.style.use('dark_background')\n",
    "\n",
    "# draw a histogram to see the distribution of age column \n",
    "sns.histplot(data['age'], kde=True, bins=30) "
   ]
  },
  {
   "cell_type": "code",
   "execution_count": 9,
   "id": "32984d1c",
   "metadata": {},
   "outputs": [
    {
     "data": {
      "image/png": "[encoded data removed]",
      "text/plain": [
       "<Figure size 640x480 with 1 Axes>"
      ]
     },
     "metadata": {},
     "output_type": "display_data"
    },
    {
     "name": "stdout",
     "output_type": "stream",
     "text": [
      "Mean: 53.51\n",
      "Median: 54.00\n",
      "Mode: 54.00\n"
     ]
    }
   ],
   "source": [
    "# # plot the mean, median, and mode of the age column \n",
    "\n",
    "# Set black background\n",
    "plt.style.use('dark_background')\n",
    "\n",
    "# Plot histogram with KDE for 'age'\n",
    "sns.histplot(data['age'], kde=True, bins=30)\n",
    "\n",
    "# Plot mean, median, and mode lines\n",
    "plt.axvline(data['age'].mean(), color='red', linestyle='--', label=f\"Mean: {data['age'].mean():.2f}\")\n",
    "plt.axvline(data['age'].median(), color='green', linestyle='--', label=f\"Median: {data['age'].median():.2f}\")\n",
    "plt.axvline(data['age'].mode()[0], color='blue', linestyle='--', label=f\"Mode: {data['age'].mode()[0]:.2f}\")\n",
    "\n",
    "# Add legend\n",
    "plt.legend()\n",
    "\n",
    "# Show the plot\n",
    "plt.show()\n",
    "\n",
    "# Print the values of mean, median, and mode\n",
    "print(f\"Mean: {data['age'].mean():.2f}\")\n",
    "print(f\"Median: {data['age'].median():.2f}\")\n",
    "print(f\"Mode: {data['age'].mode()[0]:.2f}\")"
   ]
  },
  {
   "cell_type": "markdown",
   "id": "96ac1f81",
   "metadata": {},
   "source": [
    "Let's explore the gender based distribution of the dataset for age column.\n"
   ]
  },
  {
   "cell_type": "code",
   "execution_count": 10,
   "id": "f7f38c0f",
   "metadata": {},
   "outputs": [
    {
     "data": {
      "image/png": "[encoded data removed]",
      "text/plain": [
       "<Figure size 640x480 with 1 Axes>"
      ]
     },
     "metadata": {},
     "output_type": "display_data"
    }
   ],
   "source": [
    "# # plot the histogram of age column using seaborn and coloring this by sex\n",
    "# sns.histplot(data=data, x='age', hue = 'sex')\n",
    "# plt.show() \n",
    "\n",
    "# Set the background to black with appropriate style\n",
    "plt.style.use('dark_background')\n",
    "\n",
    "# Plot the histogram of the 'age' column colored by 'sex'\n",
    "sns.histplot(data=data, x='age', hue='sex')\n",
    "\n",
    "# Show the plot\n",
    "plt.show()"
   ]
  },
  {
   "cell_type": "code",
   "execution_count": 11,
   "id": "bd7b71d9",
   "metadata": {},
   "outputs": [
    {
     "data": {
      "text/plain": [
       "sex\n",
       "Male      726\n",
       "Female    194\n",
       "Name: count, dtype: int64"
      ]
     },
     "execution_count": 11,
     "metadata": {},
     "output_type": "execute_result"
    }
   ],
   "source": [
    "# find the values of sex column \n",
    "data['sex'].value_counts() "
   ]
  },
  {
   "cell_type": "code",
   "execution_count": 12,
   "id": "0d891a24",
   "metadata": {},
   "outputs": [
    {
     "name": "stdout",
     "output_type": "stream",
     "text": [
      " Male Percentage with in the dataset : 78.91%\n",
      " Female Percentage with in the dataset : 21.09%\n",
      " Male are: 274.23% more than the females in the data.\n"
     ]
    }
   ],
   "source": [
    "# calculate the percentage of male and female value counts in the data\n",
    "male_count = 726\n",
    "female_count = 194\n",
    "total_count = male_count + female_count \n",
    "\n",
    "# calculate the percentage \n",
    "male_percentage = (male_count / total_count) * 100 \n",
    "female_percentage = (female_count / total_count) * 100 \n",
    "\n",
    "# display the results \n",
    "print(f\" Male Percentage with in the dataset : {male_percentage:.2f}%\")\n",
    "print(f\" Female Percentage with in the dataset : {female_percentage:.2f}%\")\n",
    "\n",
    "# difference\n",
    "difference_percentage = (male_count - female_count ) / female_count * 100\n",
    "print(f\" Male are: {difference_percentage:.2f}% more than the females in the data.\")"
   ]
  },
  {
   "cell_type": "code",
   "execution_count": 13,
   "id": "52d00989",
   "metadata": {},
   "outputs": [
    {
     "data": {
      "text/plain": [
       "sex     age\n",
       "Female  54     15\n",
       "        51     11\n",
       "        62     10\n",
       "        43      9\n",
       "        48      9\n",
       "               ..\n",
       "Male    77      2\n",
       "        28      1\n",
       "        31      1\n",
       "        33      1\n",
       "        76      1\n",
       "Name: count, Length: 91, dtype: int64"
      ]
     },
     "execution_count": 13,
     "metadata": {},
     "output_type": "execute_result"
    }
   ],
   "source": [
    "# find the value counts of age column by grouping by sex column \n",
    "data.groupby('sex')['age'].value_counts()"
   ]
  },
  {
   "cell_type": "markdown",
   "id": "193248f4",
   "metadata": {},
   "source": [
    "#### outputs:\n",
    "\n",
    "1. The minimun age to have a heart disease start from 28 years old.\n",
    "2. Most of the people get heart disease at the age of 53-54 years.\n",
    "3. Most of the males and females get are with heart disease at the age of 54-55 years.\n",
    "4. Male Percentage with in the dataset : 78.91%\n",
    "5. Female Percentage with in the dataset : 21.09%\n",
    "6. Male are: 274.23% more than the females in the data.\n"
   ]
  },
  {
   "cell_type": "code",
   "execution_count": 14,
   "id": "9d97ab23",
   "metadata": {},
   "outputs": [
    {
     "data": {
      "text/plain": [
       "array(['Cleveland', 'Hungary', 'Switzerland', 'VA Long Beach'],\n",
       "      dtype=object)"
      ]
     },
     "execution_count": 14,
     "metadata": {},
     "output_type": "execute_result"
    }
   ],
   "source": [
    "# let's deal with dataset column\n",
    "data['dataset'].unique()"
   ]
  },
  {
   "cell_type": "code",
   "execution_count": 15,
   "id": "a970ee63",
   "metadata": {},
   "outputs": [
    {
     "data": {
      "text/plain": [
       "dataset\n",
       "Cleveland        304\n",
       "Hungary          293\n",
       "VA Long Beach    200\n",
       "Switzerland      123\n",
       "Name: count, dtype: int64"
      ]
     },
     "execution_count": 15,
     "metadata": {},
     "output_type": "execute_result"
    }
   ],
   "source": [
    "# find the unique values of the dataset column\n",
    "data['dataset'].value_counts()"
   ]
  },
  {
   "cell_type": "code",
   "execution_count": 16,
   "id": "8499afa1",
   "metadata": {},
   "outputs": [
    {
     "data": {
      "application/vnd.plotly.v1+json": {
       "config": {
        "plotlyServerURL": "https://plot.ly"
       },
       "data": [
        {
         "alignmentgroup": "True",
         "bingroup": "x",
         "hovertemplate": "sex=Male<br>dataset=%{x}<br>count=%{y}<extra></extra>",
         "legendgroup": "Male",
         "marker": {
          "color": "#636efa",
          "pattern": {
           "shape": ""
          }
         },
         "name": "Male",
         "offsetgroup": "Male",
         "orientation": "v",
         "showlegend": true,
         "type": "histogram",
         "x": [
          "Cleveland",
          "Cleveland",
          "Cleveland",
          "Cleveland",
          "Cleveland",
          "Cleveland",
          "Cleveland",
          "Cleveland",
          "Cleveland",
          "Cleveland",
          "Cleveland",
          "Cleveland",
          "Cleveland",
          "Cleveland",
          "Cleveland",
          "Cleveland",
          "Cleveland",
          "Cleveland",
          "Cleveland",
          "Cleveland",
          "Cleveland",
          "Cleveland",
          "Cleveland",
          "Cleveland",
          "Cleveland",
          "Cleveland",
          "Cleveland",
          "Cleveland",
          "Cleveland",
          "Cleveland",
          "Cleveland",
          "Cleveland",
          "Cleveland",
          "Cleveland",
          "Cleveland",
          "Cleveland",
          "Cleveland",
          "Cleveland",
          "Cleveland",
          "Cleveland",
          "Cleveland",
          "Cleveland",
          "Cleveland",
          "Cleveland",
          "Cleveland",
          "Cleveland",
          "Cleveland",
          "Cleveland",
          "Cleveland",
          "Cleveland",
          "Cleveland",
          "Cleveland",
          "Cleveland",
          "Cleveland",
          "Cleveland",
          "Cleveland",
          "Cleveland",
          "Cleveland",
          "Cleveland",
          "Cleveland",
          "Cleveland",
          "Cleveland",
          "Cleveland",
          "Cleveland",
          "Cleveland",
          "Cleveland",
          "Cleveland",
          "Cleveland",
          "Cleveland",
          "Cleveland",
          "Cleveland",
          "Cleveland",
          "Cleveland",
          "Cleveland",
          "Cleveland",
          "Cleveland",
          "Cleveland",
          "Cleveland",
          "Cleveland",
          "Cleveland",
          "Cleveland",
          "Cleveland",
          "Cleveland",
          "Cleveland",
          "Cleveland",
          "Cleveland",
          "Cleveland",
          "Cleveland",
          "Cleveland",
          "Cleveland",
          "Cleveland",
          "Cleveland",
          "Cleveland",
          "Cleveland",
          "Cleveland",
          "Cleveland",
          "Cleveland",
          "Cleveland",
          "Cleveland",
          "Cleveland",
          "Cleveland",
          "Cleveland",
          "Cleveland",
          "Cleveland",
          "Cleveland",
          "Cleveland",
          "Cleveland",
          "Cleveland",
          "Cleveland",
          "Cleveland",
          "Cleveland",
          "Cleveland",
          "Cleveland",
          "Cleveland",
          "Cleveland",
          "Cleveland",
          "Cleveland",
          "Cleveland",
          "Cleveland",
          "Cleveland",
          "Cleveland",
          "Cleveland",
          "Cleveland",
          "Cleveland",
          "Cleveland",
          "Cleveland",
          "Cleveland",
          "Cleveland",
          "Cleveland",
          "Cleveland",
          "Cleveland",
          "Cleveland",
          "Cleveland",
          "Cleveland",
          "Cleveland",
          "Cleveland",
          "Cleveland",
          "Cleveland",
          "Cleveland",
          "Cleveland",
          "Cleveland",
          "Cleveland",
          "Cleveland",
          "Cleveland",
          "Cleveland",
          "Cleveland",
          "Cleveland",
          "Cleveland",
          "Cleveland",
          "Cleveland",
          "Cleveland",
          "Cleveland",
          "Cleveland",
          "Cleveland",
          "Cleveland",
          "Cleveland",
          "Cleveland",
          "Cleveland",
          "Cleveland",
          "Cleveland",
          "Cleveland",
          "Cleveland",
          "Cleveland",
          "Cleveland",
          "Cleveland",
          "Cleveland",
          "Cleveland",
          "Cleveland",
          "Cleveland",
          "Cleveland",
          "Cleveland",
          "Cleveland",
          "Cleveland",
          "Cleveland",
          "Cleveland",
          "Cleveland",
          "Cleveland",
          "Cleveland",
          "Cleveland",
          "Cleveland",
          "Cleveland",
          "Cleveland",
          "Cleveland",
          "Cleveland",
          "Cleveland",
          "Cleveland",
          "Cleveland",
          "Cleveland",
          "Cleveland",
          "Cleveland",
          "Cleveland",
          "Cleveland",
          "Cleveland",
          "Cleveland",
          "Cleveland",
          "Cleveland",
          "Cleveland",
          "Cleveland",
          "Cleveland",
          "Cleveland",
          "Cleveland",
          "Cleveland",
          "Cleveland",
          "Cleveland",
          "Cleveland",
          "Cleveland",
          "Cleveland",
          "Hungary",
          "Hungary",
          "Hungary",
          "Hungary",
          "Hungary",
          "Hungary",
          "Hungary",
          "Hungary",
          "Hungary",
          "Hungary",
          "Hungary",
          "Hungary",
          "Hungary",
          "Hungary",
          "Hungary",
          "Hungary",
          "Hungary",
          "Hungary",
          "Hungary",
          "Hungary",
          "Hungary",
          "Hungary",
          "Hungary",
          "Hungary",
          "Hungary",
          "Hungary",
          "Hungary",
          "Hungary",
          "Hungary",
          "Hungary",
          "Hungary",
          "Hungary",
          "Hungary",
          "Hungary",
          "Hungary",
          "Hungary",
          "Hungary",
          "Hungary",
          "Hungary",
          "Hungary",
          "Hungary",
          "Hungary",
          "Hungary",
          "Hungary",
          "Hungary",
          "Hungary",
          "Hungary",
          "Hungary",
          "Hungary",
          "Hungary",
          "Hungary",
          "Hungary",
          "Hungary",
          "Hungary",
          "Hungary",
          "Hungary",
          "Hungary",
          "Hungary",
          "Hungary",
          "Hungary",
          "Hungary",
          "Hungary",
          "Hungary",
          "Hungary",
          "Hungary",
          "Hungary",
          "Hungary",
          "Hungary",
          "Hungary",
          "Hungary",
          "Hungary",
          "Hungary",
          "Hungary",
          "Hungary",
          "Hungary",
          "Hungary",
          "Hungary",
          "Hungary",
          "Hungary",
          "Hungary",
          "Hungary",
          "Hungary",
          "Hungary",
          "Hungary",
          "Hungary",
          "Hungary",
          "Hungary",
          "Hungary",
          "Hungary",
          "Hungary",
          "Hungary",
          "Hungary",
          "Hungary",
          "Hungary",
          "Hungary",
          "Hungary",
          "Hungary",
          "Hungary",
          "Hungary",
          "Hungary",
          "Hungary",
          "Hungary",
          "Hungary",
          "Hungary",
          "Hungary",
          "Hungary",
          "Hungary",
          "Hungary",
          "Hungary",
          "Hungary",
          "Hungary",
          "Hungary",
          "Hungary",
          "Hungary",
          "Hungary",
          "Hungary",
          "Hungary",
          "Hungary",
          "Hungary",
          "Hungary",
          "Hungary",
          "Hungary",
          "Hungary",
          "Hungary",
          "Hungary",
          "Hungary",
          "Hungary",
          "Hungary",
          "Hungary",
          "Hungary",
          "Hungary",
          "Hungary",
          "Hungary",
          "Hungary",
          "Hungary",
          "Hungary",
          "Hungary",
          "Hungary",
          "Hungary",
          "Hungary",
          "Hungary",
          "Hungary",
          "Hungary",
          "Hungary",
          "Hungary",
          "Hungary",
          "Hungary",
          "Hungary",
          "Hungary",
          "Hungary",
          "Hungary",
          "Hungary",
          "Hungary",
          "Hungary",
          "Hungary",
          "Hungary",
          "Hungary",
          "Hungary",
          "Hungary",
          "Hungary",
          "Hungary",
          "Hungary",
          "Hungary",
          "Hungary",
          "Hungary",
          "Hungary",
          "Hungary",
          "Hungary",
          "Hungary",
          "Hungary",
          "Hungary",
          "Hungary",
          "Hungary",
          "Hungary",
          "Hungary",
          "Hungary",
          "Hungary",
          "Hungary",
          "Hungary",
          "Hungary",
          "Hungary",
          "Hungary",
          "Hungary",
          "Hungary",
          "Hungary",
          "Hungary",
          "Hungary",
          "Hungary",
          "Hungary",
          "Hungary",
          "Hungary",
          "Hungary",
          "Hungary",
          "Hungary",
          "Hungary",
          "Hungary",
          "Hungary",
          "Hungary",
          "Hungary",
          "Hungary",
          "Hungary",
          "Hungary",
          "Hungary",
          "Hungary",
          "Hungary",
          "Hungary",
          "Hungary",
          "Hungary",
          "Hungary",
          "Hungary",
          "Hungary",
          "Hungary",
          "Switzerland",
          "Switzerland",
          "Switzerland",
          "Switzerland",
          "Switzerland",
          "Switzerland",
          "Switzerland",
          "Switzerland",
          "Switzerland",
          "Switzerland",
          "Switzerland",
          "Switzerland",
          "Switzerland",
          "Switzerland",
          "Switzerland",
          "Switzerland",
          "Switzerland",
          "Switzerland",
          "Switzerland",
          "Switzerland",
          "Switzerland",
          "Switzerland",
          "Switzerland",
          "Switzerland",
          "Switzerland",
          "Switzerland",
          "Switzerland",
          "Switzerland",
          "Switzerland",
          "Switzerland",
          "Switzerland",
          "Switzerland",
          "Switzerland",
          "Switzerland",
          "Switzerland",
          "Switzerland",
          "Switzerland",
          "Switzerland",
          "Switzerland",
          "Switzerland",
          "Switzerland",
          "Switzerland",
          "Switzerland",
          "Switzerland",
          "Switzerland",
          "Switzerland",
          "Switzerland",
          "Switzerland",
          "Switzerland",
          "Switzerland",
          "Switzerland",
          "Switzerland",
          "Switzerland",
          "Switzerland",
          "Switzerland",
          "Switzerland",
          "Switzerland",
          "Switzerland",
          "Switzerland",
          "Switzerland",
          "Switzerland",
          "Switzerland",
          "Switzerland",
          "Switzerland",
          "Switzerland",
          "Switzerland",
          "Switzerland",
          "Switzerland",
          "Switzerland",
          "Switzerland",
          "Switzerland",
          "Switzerland",
          "Switzerland",
          "Switzerland",
          "Switzerland",
          "Switzerland",
          "Switzerland",
          "Switzerland",
          "Switzerland",
          "Switzerland",
          "Switzerland",
          "Switzerland",
          "Switzerland",
          "Switzerland",
          "Switzerland",
          "Switzerland",
          "Switzerland",
          "Switzerland",
          "Switzerland",
          "Switzerland",
          "Switzerland",
          "Switzerland",
          "Switzerland",
          "Switzerland",
          "Switzerland",
          "Switzerland",
          "Switzerland",
          "Switzerland",
          "Switzerland",
          "Switzerland",
          "Switzerland",
          "Switzerland",
          "Switzerland",
          "Switzerland",
          "Switzerland",
          "Switzerland",
          "Switzerland",
          "Switzerland",
          "Switzerland",
          "Switzerland",
          "Switzerland",
          "Switzerland",
          "Switzerland",
          "VA Long Beach",
          "VA Long Beach",
          "VA Long Beach",
          "VA Long Beach",
          "VA Long Beach",
          "VA Long Beach",
          "VA Long Beach",
          "VA Long Beach",
          "VA Long Beach",
          "VA Long Beach",
          "VA Long Beach",
          "VA Long Beach",
          "VA Long Beach",
          "VA Long Beach",
          "VA Long Beach",
          "VA Long Beach",
          "VA Long Beach",
          "VA Long Beach",
          "VA Long Beach",
          "VA Long Beach",
          "VA Long Beach",
          "VA Long Beach",
          "VA Long Beach",
          "VA Long Beach",
          "VA Long Beach",
          "VA Long Beach",
          "VA Long Beach",
          "VA Long Beach",
          "VA Long Beach",
          "VA Long Beach",
          "VA Long Beach",
          "VA Long Beach",
          "VA Long Beach",
          "VA Long Beach",
          "VA Long Beach",
          "VA Long Beach",
          "VA Long Beach",
          "VA Long Beach",
          "VA Long Beach",
          "VA Long Beach",
          "VA Long Beach",
          "VA Long Beach",
          "VA Long Beach",
          "VA Long Beach",
          "VA Long Beach",
          "VA Long Beach",
          "VA Long Beach",
          "VA Long Beach",
          "VA Long Beach",
          "VA Long Beach",
          "VA Long Beach",
          "VA Long Beach",
          "VA Long Beach",
          "VA Long Beach",
          "VA Long Beach",
          "VA Long Beach",
          "VA Long Beach",
          "VA Long Beach",
          "VA Long Beach",
          "VA Long Beach",
          "VA Long Beach",
          "VA Long Beach",
          "VA Long Beach",
          "VA Long Beach",
          "VA Long Beach",
          "VA Long Beach",
          "VA Long Beach",
          "VA Long Beach",
          "VA Long Beach",
          "VA Long Beach",
          "VA Long Beach",
          "VA Long Beach",
          "VA Long Beach",
          "VA Long Beach",
          "VA Long Beach",
          "VA Long Beach",
          "VA Long Beach",
          "VA Long Beach",
          "VA Long Beach",
          "VA Long Beach",
          "VA Long Beach",
          "VA Long Beach",
          "VA Long Beach",
          "VA Long Beach",
          "VA Long Beach",
          "VA Long Beach",
          "VA Long Beach",
          "VA Long Beach",
          "VA Long Beach",
          "VA Long Beach",
          "VA Long Beach",
          "VA Long Beach",
          "VA Long Beach",
          "VA Long Beach",
          "VA Long Beach",
          "VA Long Beach",
          "VA Long Beach",
          "VA Long Beach",
          "VA Long Beach",
          "VA Long Beach",
          "VA Long Beach",
          "VA Long Beach",
          "VA Long Beach",
          "VA Long Beach",
          "VA Long Beach",
          "VA Long Beach",
          "VA Long Beach",
          "VA Long Beach",
          "VA Long Beach",
          "VA Long Beach",
          "VA Long Beach",
          "VA Long Beach",
          "VA Long Beach",
          "VA Long Beach",
          "VA Long Beach",
          "VA Long Beach",
          "VA Long Beach",
          "VA Long Beach",
          "VA Long Beach",
          "VA Long Beach",
          "VA Long Beach",
          "VA Long Beach",
          "VA Long Beach",
          "VA Long Beach",
          "VA Long Beach",
          "VA Long Beach",
          "VA Long Beach",
          "VA Long Beach",
          "VA Long Beach",
          "VA Long Beach",
          "VA Long Beach",
          "VA Long Beach",
          "VA Long Beach",
          "VA Long Beach",
          "VA Long Beach",
          "VA Long Beach",
          "VA Long Beach",
          "VA Long Beach",
          "VA Long Beach",
          "VA Long Beach",
          "VA Long Beach",
          "VA Long Beach",
          "VA Long Beach",
          "VA Long Beach",
          "VA Long Beach",
          "VA Long Beach",
          "VA Long Beach",
          "VA Long Beach",
          "VA Long Beach",
          "VA Long Beach",
          "VA Long Beach",
          "VA Long Beach",
          "VA Long Beach",
          "VA Long Beach",
          "VA Long Beach",
          "VA Long Beach",
          "VA Long Beach",
          "VA Long Beach",
          "VA Long Beach",
          "VA Long Beach",
          "VA Long Beach",
          "VA Long Beach",
          "VA Long Beach",
          "VA Long Beach",
          "VA Long Beach",
          "VA Long Beach",
          "VA Long Beach",
          "VA Long Beach",
          "VA Long Beach",
          "VA Long Beach",
          "VA Long Beach",
          "VA Long Beach",
          "VA Long Beach",
          "VA Long Beach",
          "VA Long Beach",
          "VA Long Beach",
          "VA Long Beach",
          "VA Long Beach",
          "VA Long Beach",
          "VA Long Beach",
          "VA Long Beach",
          "VA Long Beach",
          "VA Long Beach",
          "VA Long Beach",
          "VA Long Beach",
          "VA Long Beach",
          "VA Long Beach",
          "VA Long Beach",
          "VA Long Beach",
          "VA Long Beach",
          "VA Long Beach",
          "VA Long Beach",
          "VA Long Beach",
          "VA Long Beach"
         ],
         "xaxis": "x",
         "yaxis": "y"
        },
        {
         "alignmentgroup": "True",
         "bingroup": "x",
         "hovertemplate": "sex=Female<br>dataset=%{x}<br>count=%{y}<extra></extra>",
         "legendgroup": "Female",
         "marker": {
          "color": "#EF553B",
          "pattern": {
           "shape": ""
          }
         },
         "name": "Female",
         "offsetgroup": "Female",
         "orientation": "v",
         "showlegend": true,
         "type": "histogram",
         "x": [
          "Cleveland",
          "Cleveland",
          "Cleveland",
          "Cleveland",
          "Cleveland",
          "Cleveland",
          "Cleveland",
          "Cleveland",
          "Cleveland",
          "Cleveland",
          "Cleveland",
          "Cleveland",
          "Cleveland",
          "Cleveland",
          "Cleveland",
          "Cleveland",
          "Cleveland",
          "Cleveland",
          "Cleveland",
          "Cleveland",
          "Cleveland",
          "Cleveland",
          "Cleveland",
          "Cleveland",
          "Cleveland",
          "Cleveland",
          "Cleveland",
          "Cleveland",
          "Cleveland",
          "Cleveland",
          "Cleveland",
          "Cleveland",
          "Cleveland",
          "Cleveland",
          "Cleveland",
          "Cleveland",
          "Cleveland",
          "Cleveland",
          "Cleveland",
          "Cleveland",
          "Cleveland",
          "Cleveland",
          "Cleveland",
          "Cleveland",
          "Cleveland",
          "Cleveland",
          "Cleveland",
          "Cleveland",
          "Cleveland",
          "Cleveland",
          "Cleveland",
          "Cleveland",
          "Cleveland",
          "Cleveland",
          "Cleveland",
          "Cleveland",
          "Cleveland",
          "Cleveland",
          "Cleveland",
          "Cleveland",
          "Cleveland",
          "Cleveland",
          "Cleveland",
          "Cleveland",
          "Cleveland",
          "Cleveland",
          "Cleveland",
          "Cleveland",
          "Cleveland",
          "Cleveland",
          "Cleveland",
          "Cleveland",
          "Cleveland",
          "Cleveland",
          "Cleveland",
          "Cleveland",
          "Cleveland",
          "Cleveland",
          "Cleveland",
          "Cleveland",
          "Cleveland",
          "Cleveland",
          "Cleveland",
          "Cleveland",
          "Cleveland",
          "Cleveland",
          "Cleveland",
          "Cleveland",
          "Cleveland",
          "Cleveland",
          "Cleveland",
          "Cleveland",
          "Cleveland",
          "Cleveland",
          "Cleveland",
          "Cleveland",
          "Cleveland",
          "Hungary",
          "Hungary",
          "Hungary",
          "Hungary",
          "Hungary",
          "Hungary",
          "Hungary",
          "Hungary",
          "Hungary",
          "Hungary",
          "Hungary",
          "Hungary",
          "Hungary",
          "Hungary",
          "Hungary",
          "Hungary",
          "Hungary",
          "Hungary",
          "Hungary",
          "Hungary",
          "Hungary",
          "Hungary",
          "Hungary",
          "Hungary",
          "Hungary",
          "Hungary",
          "Hungary",
          "Hungary",
          "Hungary",
          "Hungary",
          "Hungary",
          "Hungary",
          "Hungary",
          "Hungary",
          "Hungary",
          "Hungary",
          "Hungary",
          "Hungary",
          "Hungary",
          "Hungary",
          "Hungary",
          "Hungary",
          "Hungary",
          "Hungary",
          "Hungary",
          "Hungary",
          "Hungary",
          "Hungary",
          "Hungary",
          "Hungary",
          "Hungary",
          "Hungary",
          "Hungary",
          "Hungary",
          "Hungary",
          "Hungary",
          "Hungary",
          "Hungary",
          "Hungary",
          "Hungary",
          "Hungary",
          "Hungary",
          "Hungary",
          "Hungary",
          "Hungary",
          "Hungary",
          "Hungary",
          "Hungary",
          "Hungary",
          "Hungary",
          "Hungary",
          "Hungary",
          "Hungary",
          "Hungary",
          "Hungary",
          "Hungary",
          "Hungary",
          "Hungary",
          "Hungary",
          "Hungary",
          "Hungary",
          "Switzerland",
          "Switzerland",
          "Switzerland",
          "Switzerland",
          "Switzerland",
          "Switzerland",
          "Switzerland",
          "Switzerland",
          "Switzerland",
          "Switzerland",
          "VA Long Beach",
          "VA Long Beach",
          "VA Long Beach",
          "VA Long Beach",
          "VA Long Beach",
          "VA Long Beach"
         ],
         "xaxis": "x",
         "yaxis": "y"
        }
       ],
       "layout": {
        "barmode": "group",
        "legend": {
         "title": {
          "text": "sex"
         },
         "tracegroupgap": 0
        },
        "paper_bgcolor": "rgba(0,0,0,0)",
        "plot_bgcolor": "rgba(0,0,0,0)",
        "template": {
         "data": {
          "bar": [
           {
            "error_x": {
             "color": "#2a3f5f"
            },
            "error_y": {
             "color": "#2a3f5f"
            },
            "marker": {
             "line": {
              "color": "#E5ECF6",
              "width": 0.5
             },
             "pattern": {
              "fillmode": "overlay",
              "size": 10,
              "solidity": 0.2
             }
            },
            "type": "bar"
           }
          ],
          "barpolar": [
           {
            "marker": {
             "line": {
              "color": "#E5ECF6",
              "width": 0.5
             },
             "pattern": {
              "fillmode": "overlay",
              "size": 10,
              "solidity": 0.2
             }
            },
            "type": "barpolar"
           }
          ],
          "carpet": [
           {
            "aaxis": {
             "endlinecolor": "#2a3f5f",
             "gridcolor": "white",
             "linecolor": "white",
             "minorgridcolor": "white",
             "startlinecolor": "#2a3f5f"
            },
            "baxis": {
             "endlinecolor": "#2a3f5f",
             "gridcolor": "white",
             "linecolor": "white",
             "minorgridcolor": "white",
             "startlinecolor": "#2a3f5f"
            },
            "type": "carpet"
           }
          ],
          "choropleth": [
           {
            "colorbar": {
             "outlinewidth": 0,
             "ticks": ""
            },
            "type": "choropleth"
           }
          ],
          "contour": [
           {
            "colorbar": {
             "outlinewidth": 0,
             "ticks": ""
            },
            "colorscale": [
             [
              0,
              "#0d0887"
             ],
             [
              0.1111111111111111,
              "#46039f"
             ],
             [
              0.2222222222222222,
              "#7201a8"
             ],
             [
              0.3333333333333333,
              "#9c179e"
             ],
             [
              0.4444444444444444,
              "#bd3786"
             ],
             [
              0.5555555555555556,
              "#d8576b"
             ],
             [
              0.6666666666666666,
              "#ed7953"
             ],
             [
              0.7777777777777778,
              "#fb9f3a"
             ],
             [
              0.8888888888888888,
              "#fdca26"
             ],
             [
              1,
              "#f0f921"
             ]
            ],
            "type": "contour"
           }
          ],
          "contourcarpet": [
           {
            "colorbar": {
             "outlinewidth": 0,
             "ticks": ""
            },
            "type": "contourcarpet"
           }
          ],
          "heatmap": [
           {
            "colorbar": {
             "outlinewidth": 0,
             "ticks": ""
            },
            "colorscale": [
             [
              0,
              "#0d0887"
             ],
             [
              0.1111111111111111,
              "#46039f"
             ],
             [
              0.2222222222222222,
              "#7201a8"
             ],
             [
              0.3333333333333333,
              "#9c179e"
             ],
             [
              0.4444444444444444,
              "#bd3786"
             ],
             [
              0.5555555555555556,
              "#d8576b"
             ],
             [
              0.6666666666666666,
              "#ed7953"
             ],
             [
              0.7777777777777778,
              "#fb9f3a"
             ],
             [
              0.8888888888888888,
              "#fdca26"
             ],
             [
              1,
              "#f0f921"
             ]
            ],
            "type": "heatmap"
           }
          ],
          "histogram": [
           {
            "marker": {
             "pattern": {
              "fillmode": "overlay",
              "size": 10,
              "solidity": 0.2
             }
            },
            "type": "histogram"
           }
          ],
          "histogram2d": [
           {
            "colorbar": {
             "outlinewidth": 0,
             "ticks": ""
            },
            "colorscale": [
             [
              0,
              "#0d0887"
             ],
             [
              0.1111111111111111,
              "#46039f"
             ],
             [
              0.2222222222222222,
              "#7201a8"
             ],
             [
              0.3333333333333333,
              "#9c179e"
             ],
             [
              0.4444444444444444,
              "#bd3786"
             ],
             [
              0.5555555555555556,
              "#d8576b"
             ],
             [
              0.6666666666666666,
              "#ed7953"
             ],
             [
              0.7777777777777778,
              "#fb9f3a"
             ],
             [
              0.8888888888888888,
              "#fdca26"
             ],
             [
              1,
              "#f0f921"
             ]
            ],
            "type": "histogram2d"
           }
          ],
          "histogram2dcontour": [
           {
            "colorbar": {
             "outlinewidth": 0,
             "ticks": ""
            },
            "colorscale": [
             [
              0,
              "#0d0887"
             ],
             [
              0.1111111111111111,
              "#46039f"
             ],
             [
              0.2222222222222222,
              "#7201a8"
             ],
             [
              0.3333333333333333,
              "#9c179e"
             ],
             [
              0.4444444444444444,
              "#bd3786"
             ],
             [
              0.5555555555555556,
              "#d8576b"
             ],
             [
              0.6666666666666666,
              "#ed7953"
             ],
             [
              0.7777777777777778,
              "#fb9f3a"
             ],
             [
              0.8888888888888888,
              "#fdca26"
             ],
             [
              1,
              "#f0f921"
             ]
            ],
            "type": "histogram2dcontour"
           }
          ],
          "mesh3d": [
           {
            "colorbar": {
             "outlinewidth": 0,
             "ticks": ""
            },
            "type": "mesh3d"
           }
          ],
          "parcoords": [
           {
            "line": {
             "colorbar": {
              "outlinewidth": 0,
              "ticks": ""
             }
            },
            "type": "parcoords"
           }
          ],
          "pie": [
           {
            "automargin": true,
            "type": "pie"
           }
          ],
          "scatter": [
           {
            "fillpattern": {
             "fillmode": "overlay",
             "size": 10,
             "solidity": 0.2
            },
            "type": "scatter"
           }
          ],
          "scatter3d": [
           {
            "line": {
             "colorbar": {
              "outlinewidth": 0,
              "ticks": ""
             }
            },
            "marker": {
             "colorbar": {
              "outlinewidth": 0,
              "ticks": ""
             }
            },
            "type": "scatter3d"
           }
          ],
          "scattercarpet": [
           {
            "marker": {
             "colorbar": {
              "outlinewidth": 0,
              "ticks": ""
             }
            },
            "type": "scattercarpet"
           }
          ],
          "scattergeo": [
           {
            "marker": {
             "colorbar": {
              "outlinewidth": 0,
              "ticks": ""
             }
            },
            "type": "scattergeo"
           }
          ],
          "scattergl": [
           {
            "marker": {
             "colorbar": {
              "outlinewidth": 0,
              "ticks": ""
             }
            },
            "type": "scattergl"
           }
          ],
          "scattermap": [
           {
            "marker": {
             "colorbar": {
              "outlinewidth": 0,
              "ticks": ""
             }
            },
            "type": "scattermap"
           }
          ],
          "scattermapbox": [
           {
            "marker": {
             "colorbar": {
              "outlinewidth": 0,
              "ticks": ""
             }
            },
            "type": "scattermapbox"
           }
          ],
          "scatterpolar": [
           {
            "marker": {
             "colorbar": {
              "outlinewidth": 0,
              "ticks": ""
             }
            },
            "type": "scatterpolar"
           }
          ],
          "scatterpolargl": [
           {
            "marker": {
             "colorbar": {
              "outlinewidth": 0,
              "ticks": ""
             }
            },
            "type": "scatterpolargl"
           }
          ],
          "scatterternary": [
           {
            "marker": {
             "colorbar": {
              "outlinewidth": 0,
              "ticks": ""
             }
            },
            "type": "scatterternary"
           }
          ],
          "surface": [
           {
            "colorbar": {
             "outlinewidth": 0,
             "ticks": ""
            },
            "colorscale": [
             [
              0,
              "#0d0887"
             ],
             [
              0.1111111111111111,
              "#46039f"
             ],
             [
              0.2222222222222222,
              "#7201a8"
             ],
             [
              0.3333333333333333,
              "#9c179e"
             ],
             [
              0.4444444444444444,
              "#bd3786"
             ],
             [
              0.5555555555555556,
              "#d8576b"
             ],
             [
              0.6666666666666666,
              "#ed7953"
             ],
             [
              0.7777777777777778,
              "#fb9f3a"
             ],
             [
              0.8888888888888888,
              "#fdca26"
             ],
             [
              1,
              "#f0f921"
             ]
            ],
            "type": "surface"
           }
          ],
          "table": [
           {
            "cells": {
             "fill": {
              "color": "#EBF0F8"
             },
             "line": {
              "color": "white"
             }
            },
            "header": {
             "fill": {
              "color": "#C8D4E3"
             },
             "line": {
              "color": "white"
             }
            },
            "type": "table"
           }
          ]
         },
         "layout": {
          "annotationdefaults": {
           "arrowcolor": "#2a3f5f",
           "arrowhead": 0,
           "arrowwidth": 1
          },
          "autotypenumbers": "strict",
          "coloraxis": {
           "colorbar": {
            "outlinewidth": 0,
            "ticks": ""
           }
          },
          "colorscale": {
           "diverging": [
            [
             0,
             "#8e0152"
            ],
            [
             0.1,
             "#c51b7d"
            ],
            [
             0.2,
             "#de77ae"
            ],
            [
             0.3,
             "#f1b6da"
            ],
            [
             0.4,
             "#fde0ef"
            ],
            [
             0.5,
             "#f7f7f7"
            ],
            [
             0.6,
             "#e6f5d0"
            ],
            [
             0.7,
             "#b8e186"
            ],
            [
             0.8,
             "#7fbc41"
            ],
            [
             0.9,
             "#4d9221"
            ],
            [
             1,
             "#276419"
            ]
           ],
           "sequential": [
            [
             0,
             "#0d0887"
            ],
            [
             0.1111111111111111,
             "#46039f"
            ],
            [
             0.2222222222222222,
             "#7201a8"
            ],
            [
             0.3333333333333333,
             "#9c179e"
            ],
            [
             0.4444444444444444,
             "#bd3786"
            ],
            [
             0.5555555555555556,
             "#d8576b"
            ],
            [
             0.6666666666666666,
             "#ed7953"
            ],
            [
             0.7777777777777778,
             "#fb9f3a"
            ],
            [
             0.8888888888888888,
             "#fdca26"
            ],
            [
             1,
             "#f0f921"
            ]
           ],
           "sequentialminus": [
            [
             0,
             "#0d0887"
            ],
            [
             0.1111111111111111,
             "#46039f"
            ],
            [
             0.2222222222222222,
             "#7201a8"
            ],
            [
             0.3333333333333333,
             "#9c179e"
            ],
            [
             0.4444444444444444,
             "#bd3786"
            ],
            [
             0.5555555555555556,
             "#d8576b"
            ],
            [
             0.6666666666666666,
             "#ed7953"
            ],
            [
             0.7777777777777778,
             "#fb9f3a"
            ],
            [
             0.8888888888888888,
             "#fdca26"
            ],
            [
             1,
             "#f0f921"
            ]
           ]
          },
          "colorway": [
           "#636efa",
           "#EF553B",
           "#00cc96",
           "#ab63fa",
           "#FFA15A",
           "#19d3f3",
           "#FF6692",
           "#B6E880",
           "#FF97FF",
           "#FECB52"
          ],
          "font": {
           "color": "#2a3f5f"
          },
          "geo": {
           "bgcolor": "white",
           "lakecolor": "white",
           "landcolor": "#E5ECF6",
           "showlakes": true,
           "showland": true,
           "subunitcolor": "white"
          },
          "hoverlabel": {
           "align": "left"
          },
          "hovermode": "closest",
          "mapbox": {
           "style": "light"
          },
          "paper_bgcolor": "white",
          "plot_bgcolor": "#E5ECF6",
          "polar": {
           "angularaxis": {
            "gridcolor": "white",
            "linecolor": "white",
            "ticks": ""
           },
           "bgcolor": "#E5ECF6",
           "radialaxis": {
            "gridcolor": "white",
            "linecolor": "white",
            "ticks": ""
           }
          },
          "scene": {
           "xaxis": {
            "backgroundcolor": "#E5ECF6",
            "gridcolor": "white",
            "gridwidth": 2,
            "linecolor": "white",
            "showbackground": true,
            "ticks": "",
            "zerolinecolor": "white"
           },
           "yaxis": {
            "backgroundcolor": "#E5ECF6",
            "gridcolor": "white",
            "gridwidth": 2,
            "linecolor": "white",
            "showbackground": true,
            "ticks": "",
            "zerolinecolor": "white"
           },
           "zaxis": {
            "backgroundcolor": "#E5ECF6",
            "gridcolor": "white",
            "gridwidth": 2,
            "linecolor": "white",
            "showbackground": true,
            "ticks": "",
            "zerolinecolor": "white"
           }
          },
          "shapedefaults": {
           "line": {
            "color": "#2a3f5f"
           }
          },
          "ternary": {
           "aaxis": {
            "gridcolor": "white",
            "linecolor": "white",
            "ticks": ""
           },
           "baxis": {
            "gridcolor": "white",
            "linecolor": "white",
            "ticks": ""
           },
           "bgcolor": "#E5ECF6",
           "caxis": {
            "gridcolor": "white",
            "linecolor": "white",
            "ticks": ""
           }
          },
          "title": {
           "x": 0.05
          },
          "xaxis": {
           "automargin": true,
           "gridcolor": "white",
           "linecolor": "white",
           "ticks": "",
           "title": {
            "standoff": 15
           },
           "zerolinecolor": "white",
           "zerolinewidth": 2
          },
          "yaxis": {
           "automargin": true,
           "gridcolor": "white",
           "linecolor": "white",
           "ticks": "",
           "title": {
            "standoff": 15
           },
           "zerolinecolor": "white",
           "zerolinewidth": 2
          }
         }
        },
        "title": {
         "text": "Count of Dataset by se"
        },
        "xaxis": {
         "anchor": "y",
         "domain": [
          0,
          1
         ],
         "title": {
          "text": "dataset"
         }
        },
        "yaxis": {
         "anchor": "x",
         "domain": [
          0,
          1
         ],
         "title": {
          "text": "count"
         }
        }
       }
      }
     },
     "metadata": {},
     "output_type": "display_data"
    }
   ],
   "source": [
    "# plot the countplot of dataset column using plotly\n",
    "fig = px.histogram(data, x='dataset', color='sex', barmode='group', title='Count of Dataset by se') \n",
    "\n",
    "# change the background color of the plot\n",
    "fig.update_layout(plot_bgcolor='rgba(0,0,0,0)', paper_bgcolor='rgba(0,0,0,0)')\n",
    "\n",
    "fig.show()"
   ]
  },
  {
   "cell_type": "code",
   "execution_count": 17,
   "id": "a447b90e",
   "metadata": {},
   "outputs": [
    {
     "data": {
      "application/vnd.plotly.v1+json": {
       "config": {
        "plotlyServerURL": "https://plot.ly"
       },
       "data": [
        {
         "alignmentgroup": "True",
         "bingroup": "x",
         "hovertemplate": "dataset=Cleveland<br>age=%{x}<br>count=%{y}<extra></extra>",
         "legendgroup": "Cleveland",
         "marker": {
          "color": "#636efa",
          "pattern": {
           "shape": ""
          }
         },
         "name": "Cleveland",
         "offsetgroup": "Cleveland",
         "orientation": "v",
         "showlegend": true,
         "type": "histogram",
         "x": {
          "bdata": "P0NDJSk4Pjk/NTk4OCw0OTA2MDFAOjo6PDI6QisoRTxAOywqKzk3PUEoRzs9OjMyQTUpQSwsPDYyKTYzMy46NjY8PDY7LkFDPkEsQTwzMDotNSdENCwvNTUzQj4+LD80Ozw0MC0iOUcxNjs5PSc9ODQrPik6Iz9BMD8zN0EtODYsPjYzHTMrN0Y+IzM7OzRAOi85KS08NCpDN0BGMzo8RC5NNjowOTQ2Iy1GNTs+QDk0OCs1MDgqOzw/KkI2RTIzKz5EQ0UtMjsyQDlAKy06Mjc+JSYpQjQ4Li5AOyk2JzU/Ii9DNkI0NzFKNjY4LjEqKSkxPTxDOi80Pjk6QDMrKkNMRjksOjwsPSo0OygqPUIuRztAQic5OjkvNyM9Ojo6ODhDNyw/Pyk7OS1EOTkmHA==",
          "dtype": "i1"
         },
         "xaxis": "x",
         "yaxis": "y"
        },
        {
         "alignmentgroup": "True",
         "bingroup": "x",
         "hovertemplate": "dataset=Hungary<br>age=%{x}<br>count=%{y}<extra></extra>",
         "legendgroup": "Hungary",
         "marker": {
          "color": "#EF553B",
          "pattern": {
           "shape": ""
          }
         },
         "name": "Hungary",
         "offsetgroup": "Hungary",
         "orientation": "v",
         "showlegend": true,
         "type": "histogram",
         "x": {
          "bdata": "HR0eHyAgICEiIiIjIyMjJCQkJCUlJSUlJSUmJiYnJycnJycnJycnKCgoKCgpKSkpKSkpKioqKioqKisrKysrKysrLCwsLC0tLS0tLS0uLi4uLi4uLy8vLy8wMDAwMDAwMDAwMDExMTExMTExMjIyMjIyMjMzMzMzMzM0NDQ0NDQ0NDU1NTU1NTU1NTY2NjY2NjY2NjY2NjY2NjY3Nzc3Nzc3Nzc3ODg4ODg5OTk6Ojo6Ozs7Ozs8PT0+Ph8hIiMkJSYmJigpKSsuLi4vLzAwMDExMTIyMzQ2Njc5Ojs8P0EgJicoKy0uLjAwMDAyNDQ1NjY2NjY3ODk6OikrLCwuLzAxMTM0NDQ0NTU2Nzc3ODg4Ojs7QUIpKywvLzExMjI0NDY4OkE=",
          "dtype": "i1"
         },
         "xaxis": "x",
         "yaxis": "y"
        },
        {
         "alignmentgroup": "True",
         "bingroup": "x",
         "hovertemplate": "dataset=Switzerland<br>age=%{x}<br>count=%{y}<extra></extra>",
         "legendgroup": "Switzerland",
         "marker": {
          "color": "#00cc96",
          "pattern": {
           "shape": ""
          }
         },
         "name": "Switzerland",
         "offsetgroup": "Switzerland",
         "orientation": "v",
         "showlegend": true,
         "type": "histogram",
         "x": {
          "bdata": "ICIjJCYmJiYmJigpKiorKystLi4vLy8vMDIyMjIzMzMzMzMzNDQ0NDU1NTU1NTU1NjY2Nzc3Nzg4ODg4ODg4OTk5OTk5Ojo6Ozs7Ozs8PDw8PDw9PT09PT09PT0+Pj4+Pj4+Pz8/Pz9AQEBBQUFBQkJDRERFRUZGSElK",
          "dtype": "i1"
         },
         "xaxis": "x",
         "yaxis": "y"
        },
        {
         "alignmentgroup": "True",
         "bingroup": "x",
         "hovertemplate": "dataset=VA Long Beach<br>age=%{x}<br>count=%{y}<extra></extra>",
         "legendgroup": "VA Long Beach",
         "marker": {
          "color": "#ab63fa",
          "pattern": {
           "shape": ""
          }
         },
         "name": "VA Long Beach",
         "offsetgroup": "VA Long Beach",
         "orientation": "v",
         "showlegend": true,
         "type": "histogram",
         "x": {
          "bdata": "Pyw8N0JCQTw8PDg7Pj85Pj8uPzw6QD9KNEUzPDg3Nk0/NzRAPDw6Oz0oPSk5PzszOyo3Pz44NUQ1PD47Mz05ODpFQzpBPzc5QTZISzEzPEA6PUM+QT9FMz43SyhDOjw/Iz4rP0RBMD9APTI7Ny1BPTFIMkA3Pzs4Pko2OT5MNkY9MDA9QkQ3PkdKNTpLODpANjY7Nzk9KUcmNzhFQEhFOD5DOUUzMEVFQDk1JUNKPzo9QDo8OTc3ODk9PTpKRDM+NT4uNj43Oj4=",
          "dtype": "i1"
         },
         "xaxis": "x",
         "yaxis": "y"
        }
       ],
       "layout": {
        "barmode": "group",
        "legend": {
         "title": {
          "text": "dataset"
         },
         "tracegroupgap": 0
        },
        "paper_bgcolor": "rgba(0,0,0,0)",
        "plot_bgcolor": "rgba(0,0,0,0)",
        "template": {
         "data": {
          "bar": [
           {
            "error_x": {
             "color": "#2a3f5f"
            },
            "error_y": {
             "color": "#2a3f5f"
            },
            "marker": {
             "line": {
              "color": "#E5ECF6",
              "width": 0.5
             },
             "pattern": {
              "fillmode": "overlay",
              "size": 10,
              "solidity": 0.2
             }
            },
            "type": "bar"
           }
          ],
          "barpolar": [
           {
            "marker": {
             "line": {
              "color": "#E5ECF6",
              "width": 0.5
             },
             "pattern": {
              "fillmode": "overlay",
              "size": 10,
              "solidity": 0.2
             }
            },
            "type": "barpolar"
           }
          ],
          "carpet": [
           {
            "aaxis": {
             "endlinecolor": "#2a3f5f",
             "gridcolor": "white",
             "linecolor": "white",
             "minorgridcolor": "white",
             "startlinecolor": "#2a3f5f"
            },
            "baxis": {
             "endlinecolor": "#2a3f5f",
             "gridcolor": "white",
             "linecolor": "white",
             "minorgridcolor": "white",
             "startlinecolor": "#2a3f5f"
            },
            "type": "carpet"
           }
          ],
          "choropleth": [
           {
            "colorbar": {
             "outlinewidth": 0,
             "ticks": ""
            },
            "type": "choropleth"
           }
          ],
          "contour": [
           {
            "colorbar": {
             "outlinewidth": 0,
             "ticks": ""
            },
            "colorscale": [
             [
              0,
              "#0d0887"
             ],
             [
              0.1111111111111111,
              "#46039f"
             ],
             [
              0.2222222222222222,
              "#7201a8"
             ],
             [
              0.3333333333333333,
              "#9c179e"
             ],
             [
              0.4444444444444444,
              "#bd3786"
             ],
             [
              0.5555555555555556,
              "#d8576b"
             ],
             [
              0.6666666666666666,
              "#ed7953"
             ],
             [
              0.7777777777777778,
              "#fb9f3a"
             ],
             [
              0.8888888888888888,
              "#fdca26"
             ],
             [
              1,
              "#f0f921"
             ]
            ],
            "type": "contour"
           }
          ],
          "contourcarpet": [
           {
            "colorbar": {
             "outlinewidth": 0,
             "ticks": ""
            },
            "type": "contourcarpet"
           }
          ],
          "heatmap": [
           {
            "colorbar": {
             "outlinewidth": 0,
             "ticks": ""
            },
            "colorscale": [
             [
              0,
              "#0d0887"
             ],
             [
              0.1111111111111111,
              "#46039f"
             ],
             [
              0.2222222222222222,
              "#7201a8"
             ],
             [
              0.3333333333333333,
              "#9c179e"
             ],
             [
              0.4444444444444444,
              "#bd3786"
             ],
             [
              0.5555555555555556,
              "#d8576b"
             ],
             [
              0.6666666666666666,
              "#ed7953"
             ],
             [
              0.7777777777777778,
              "#fb9f3a"
             ],
             [
              0.8888888888888888,
              "#fdca26"
             ],
             [
              1,
              "#f0f921"
             ]
            ],
            "type": "heatmap"
           }
          ],
          "histogram": [
           {
            "marker": {
             "pattern": {
              "fillmode": "overlay",
              "size": 10,
              "solidity": 0.2
             }
            },
            "type": "histogram"
           }
          ],
          "histogram2d": [
           {
            "colorbar": {
             "outlinewidth": 0,
             "ticks": ""
            },
            "colorscale": [
             [
              0,
              "#0d0887"
             ],
             [
              0.1111111111111111,
              "#46039f"
             ],
             [
              0.2222222222222222,
              "#7201a8"
             ],
             [
              0.3333333333333333,
              "#9c179e"
             ],
             [
              0.4444444444444444,
              "#bd3786"
             ],
             [
              0.5555555555555556,
              "#d8576b"
             ],
             [
              0.6666666666666666,
              "#ed7953"
             ],
             [
              0.7777777777777778,
              "#fb9f3a"
             ],
             [
              0.8888888888888888,
              "#fdca26"
             ],
             [
              1,
              "#f0f921"
             ]
            ],
            "type": "histogram2d"
           }
          ],
          "histogram2dcontour": [
           {
            "colorbar": {
             "outlinewidth": 0,
             "ticks": ""
            },
            "colorscale": [
             [
              0,
              "#0d0887"
             ],
             [
              0.1111111111111111,
              "#46039f"
             ],
             [
              0.2222222222222222,
              "#7201a8"
             ],
             [
              0.3333333333333333,
              "#9c179e"
             ],
             [
              0.4444444444444444,
              "#bd3786"
             ],
             [
              0.5555555555555556,
              "#d8576b"
             ],
             [
              0.6666666666666666,
              "#ed7953"
             ],
             [
              0.7777777777777778,
              "#fb9f3a"
             ],
             [
              0.8888888888888888,
              "#fdca26"
             ],
             [
              1,
              "#f0f921"
             ]
            ],
            "type": "histogram2dcontour"
           }
          ],
          "mesh3d": [
           {
            "colorbar": {
             "outlinewidth": 0,
             "ticks": ""
            },
            "type": "mesh3d"
           }
          ],
          "parcoords": [
           {
            "line": {
             "colorbar": {
              "outlinewidth": 0,
              "ticks": ""
             }
            },
            "type": "parcoords"
           }
          ],
          "pie": [
           {
            "automargin": true,
            "type": "pie"
           }
          ],
          "scatter": [
           {
            "fillpattern": {
             "fillmode": "overlay",
             "size": 10,
             "solidity": 0.2
            },
            "type": "scatter"
           }
          ],
          "scatter3d": [
           {
            "line": {
             "colorbar": {
              "outlinewidth": 0,
              "ticks": ""
             }
            },
            "marker": {
             "colorbar": {
              "outlinewidth": 0,
              "ticks": ""
             }
            },
            "type": "scatter3d"
           }
          ],
          "scattercarpet": [
           {
            "marker": {
             "colorbar": {
              "outlinewidth": 0,
              "ticks": ""
             }
            },
            "type": "scattercarpet"
           }
          ],
          "scattergeo": [
           {
            "marker": {
             "colorbar": {
              "outlinewidth": 0,
              "ticks": ""
             }
            },
            "type": "scattergeo"
           }
          ],
          "scattergl": [
           {
            "marker": {
             "colorbar": {
              "outlinewidth": 0,
              "ticks": ""
             }
            },
            "type": "scattergl"
           }
          ],
          "scattermap": [
           {
            "marker": {
             "colorbar": {
              "outlinewidth": 0,
              "ticks": ""
             }
            },
            "type": "scattermap"
           }
          ],
          "scattermapbox": [
           {
            "marker": {
             "colorbar": {
              "outlinewidth": 0,
              "ticks": ""
             }
            },
            "type": "scattermapbox"
           }
          ],
          "scatterpolar": [
           {
            "marker": {
             "colorbar": {
              "outlinewidth": 0,
              "ticks": ""
             }
            },
            "type": "scatterpolar"
           }
          ],
          "scatterpolargl": [
           {
            "marker": {
             "colorbar": {
              "outlinewidth": 0,
              "ticks": ""
             }
            },
            "type": "scatterpolargl"
           }
          ],
          "scatterternary": [
           {
            "marker": {
             "colorbar": {
              "outlinewidth": 0,
              "ticks": ""
             }
            },
            "type": "scatterternary"
           }
          ],
          "surface": [
           {
            "colorbar": {
             "outlinewidth": 0,
             "ticks": ""
            },
            "colorscale": [
             [
              0,
              "#0d0887"
             ],
             [
              0.1111111111111111,
              "#46039f"
             ],
             [
              0.2222222222222222,
              "#7201a8"
             ],
             [
              0.3333333333333333,
              "#9c179e"
             ],
             [
              0.4444444444444444,
              "#bd3786"
             ],
             [
              0.5555555555555556,
              "#d8576b"
             ],
             [
              0.6666666666666666,
              "#ed7953"
             ],
             [
              0.7777777777777778,
              "#fb9f3a"
             ],
             [
              0.8888888888888888,
              "#fdca26"
             ],
             [
              1,
              "#f0f921"
             ]
            ],
            "type": "surface"
           }
          ],
          "table": [
           {
            "cells": {
             "fill": {
              "color": "#EBF0F8"
             },
             "line": {
              "color": "white"
             }
            },
            "header": {
             "fill": {
              "color": "#C8D4E3"
             },
             "line": {
              "color": "white"
             }
            },
            "type": "table"
           }
          ]
         },
         "layout": {
          "annotationdefaults": {
           "arrowcolor": "#2a3f5f",
           "arrowhead": 0,
           "arrowwidth": 1
          },
          "autotypenumbers": "strict",
          "coloraxis": {
           "colorbar": {
            "outlinewidth": 0,
            "ticks": ""
           }
          },
          "colorscale": {
           "diverging": [
            [
             0,
             "#8e0152"
            ],
            [
             0.1,
             "#c51b7d"
            ],
            [
             0.2,
             "#de77ae"
            ],
            [
             0.3,
             "#f1b6da"
            ],
            [
             0.4,
             "#fde0ef"
            ],
            [
             0.5,
             "#f7f7f7"
            ],
            [
             0.6,
             "#e6f5d0"
            ],
            [
             0.7,
             "#b8e186"
            ],
            [
             0.8,
             "#7fbc41"
            ],
            [
             0.9,
             "#4d9221"
            ],
            [
             1,
             "#276419"
            ]
           ],
           "sequential": [
            [
             0,
             "#0d0887"
            ],
            [
             0.1111111111111111,
             "#46039f"
            ],
            [
             0.2222222222222222,
             "#7201a8"
            ],
            [
             0.3333333333333333,
             "#9c179e"
            ],
            [
             0.4444444444444444,
             "#bd3786"
            ],
            [
             0.5555555555555556,
             "#d8576b"
            ],
            [
             0.6666666666666666,
             "#ed7953"
            ],
            [
             0.7777777777777778,
             "#fb9f3a"
            ],
            [
             0.8888888888888888,
             "#fdca26"
            ],
            [
             1,
             "#f0f921"
            ]
           ],
           "sequentialminus": [
            [
             0,
             "#0d0887"
            ],
            [
             0.1111111111111111,
             "#46039f"
            ],
            [
             0.2222222222222222,
             "#7201a8"
            ],
            [
             0.3333333333333333,
             "#9c179e"
            ],
            [
             0.4444444444444444,
             "#bd3786"
            ],
            [
             0.5555555555555556,
             "#d8576b"
            ],
            [
             0.6666666666666666,
             "#ed7953"
            ],
            [
             0.7777777777777778,
             "#fb9f3a"
            ],
            [
             0.8888888888888888,
             "#fdca26"
            ],
            [
             1,
             "#f0f921"
            ]
           ]
          },
          "colorway": [
           "#636efa",
           "#EF553B",
           "#00cc96",
           "#ab63fa",
           "#FFA15A",
           "#19d3f3",
           "#FF6692",
           "#B6E880",
           "#FF97FF",
           "#FECB52"
          ],
          "font": {
           "color": "#2a3f5f"
          },
          "geo": {
           "bgcolor": "white",
           "lakecolor": "white",
           "landcolor": "#E5ECF6",
           "showlakes": true,
           "showland": true,
           "subunitcolor": "white"
          },
          "hoverlabel": {
           "align": "left"
          },
          "hovermode": "closest",
          "mapbox": {
           "style": "light"
          },
          "paper_bgcolor": "white",
          "plot_bgcolor": "#E5ECF6",
          "polar": {
           "angularaxis": {
            "gridcolor": "white",
            "linecolor": "white",
            "ticks": ""
           },
           "bgcolor": "#E5ECF6",
           "radialaxis": {
            "gridcolor": "white",
            "linecolor": "white",
            "ticks": ""
           }
          },
          "scene": {
           "xaxis": {
            "backgroundcolor": "#E5ECF6",
            "gridcolor": "white",
            "gridwidth": 2,
            "linecolor": "white",
            "showbackground": true,
            "ticks": "",
            "zerolinecolor": "white"
           },
           "yaxis": {
            "backgroundcolor": "#E5ECF6",
            "gridcolor": "white",
            "gridwidth": 2,
            "linecolor": "white",
            "showbackground": true,
            "ticks": "",
            "zerolinecolor": "white"
           },
           "zaxis": {
            "backgroundcolor": "#E5ECF6",
            "gridcolor": "white",
            "gridwidth": 2,
            "linecolor": "white",
            "showbackground": true,
            "ticks": "",
            "zerolinecolor": "white"
           }
          },
          "shapedefaults": {
           "line": {
            "color": "#2a3f5f"
           }
          },
          "ternary": {
           "aaxis": {
            "gridcolor": "white",
            "linecolor": "white",
            "ticks": ""
           },
           "baxis": {
            "gridcolor": "white",
            "linecolor": "white",
            "ticks": ""
           },
           "bgcolor": "#E5ECF6",
           "caxis": {
            "gridcolor": "white",
            "linecolor": "white",
            "ticks": ""
           }
          },
          "title": {
           "x": 0.05
          },
          "xaxis": {
           "automargin": true,
           "gridcolor": "white",
           "linecolor": "white",
           "ticks": "",
           "title": {
            "standoff": 15
           },
           "zerolinecolor": "white",
           "zerolinewidth": 2
          },
          "yaxis": {
           "automargin": true,
           "gridcolor": "white",
           "linecolor": "white",
           "ticks": "",
           "title": {
            "standoff": 15
           },
           "zerolinecolor": "white",
           "zerolinewidth": 2
          }
         }
        },
        "title": {
         "text": "Age Distribution by Dataset"
        },
        "xaxis": {
         "anchor": "y",
         "domain": [
          0,
          1
         ],
         "title": {
          "text": "age"
         }
        },
        "yaxis": {
         "anchor": "x",
         "domain": [
          0,
          1
         ],
         "title": {
          "text": "count"
         }
        }
       }
      }
     },
     "metadata": {},
     "output_type": "display_data"
    }
   ],
   "source": [
    "# make a plot of age column using plotly express and coloring this by dataset column\n",
    "fig = px.histogram(data, x='age', color='dataset', barmode='group', title='Age Distribution by Dataset')\n",
    "\n",
    "# change the background color of the plot\n",
    "fig.update_layout(plot_bgcolor='rgba(0,0,0,0)', paper_bgcolor='rgba(0,0,0,0)')\n",
    "fig.show()  \n"
   ]
  },
  {
   "cell_type": "code",
   "execution_count": 18,
   "id": "416c6996",
   "metadata": {},
   "outputs": [
    {
     "name": "stdout",
     "output_type": "stream",
     "text": [
      "dataset\n",
      "Cleveland        54.351974\n",
      "Hungary          47.894198\n",
      "Switzerland      55.317073\n",
      "VA Long Beach    59.350000\n",
      "Name: age, dtype: float64\n",
      "______________________________________________________\n",
      "dataset\n",
      "Cleveland        55.5\n",
      "Hungary          49.0\n",
      "Switzerland      56.0\n",
      "VA Long Beach    60.0\n",
      "Name: age, dtype: float64\n",
      "______________________________________________________\n",
      "dataset\n",
      "Cleveland        58\n",
      "Hungary          54\n",
      "Switzerland      61\n",
      "VA Long Beach    62\n",
      "Name: age, dtype: int64\n",
      "______________________________________________________\n"
     ]
    }
   ],
   "source": [
    "# print the mean, median, and mode of the age column grouped by dataset column\n",
    "mean_age=  data.groupby('dataset')['age'].mean()\n",
    "median_age = data.groupby('dataset')['age'].median()  \n",
    "mode_age = data.groupby('dataset')['age'].agg(lambda x: x.mode()[0])\n",
    "\n",
    "print(mean_age)\n",
    "print(\"______________________________________________________\")\n",
    "print(median_age)\n",
    "print(\"______________________________________________________\")\n",
    "print(mode_age)\n",
    "print(\"______________________________________________________\")"
   ]
  },
  {
   "cell_type": "markdown",
   "id": "be7260d0",
   "metadata": {},
   "source": [
    "#### let's explore the cp ( Chest Pain) column:\n"
   ]
  },
  {
   "cell_type": "code",
   "execution_count": 19,
   "id": "c4905bc7",
   "metadata": {},
   "outputs": [
    {
     "data": {
      "text/plain": [
       "cp\n",
       "asymptomatic       496\n",
       "non-anginal        204\n",
       "atypical angina    174\n",
       "typical angina      46\n",
       "Name: count, dtype: int64"
      ]
     },
     "execution_count": 19,
     "metadata": {},
     "output_type": "execute_result"
    }
   ],
   "source": [
    "# value counts of cp column\n",
    "data['cp'].value_counts()"
   ]
  },
  {
   "cell_type": "code",
   "execution_count": 20,
   "id": "18dbfe92",
   "metadata": {},
   "outputs": [
    {
     "data": {
      "image/png": "[encoded data removed]",
      "text/plain": [
       "<Figure size 640x480 with 1 Axes>"
      ]
     },
     "metadata": {},
     "output_type": "display_data"
    }
   ],
   "source": [
    "# count plot of cp column using seaborn\n",
    "sns.countplot(x='cp', data=data, palette='viridis', hue= 'sex')\n",
    "plt.title('Count of Chest Pain Types (cp)')\n",
    "plt.xlabel('Chest Pain Type (cp)')\n",
    "plt.ylabel('Count')\n",
    "plt.show()"
   ]
  },
  {
   "cell_type": "code",
   "execution_count": 21,
   "id": "bb9e2101",
   "metadata": {},
   "outputs": [
    {
     "data": {
      "application/vnd.plotly.v1+json": {
       "config": {
        "plotlyServerURL": "https://plot.ly"
       },
       "data": [
        {
         "alignmentgroup": "True",
         "bingroup": "x",
         "hovertemplate": "cp=typical angina<br>age=%{x}<br>count=%{y}<extra></extra>",
         "legendgroup": "typical angina",
         "marker": {
          "color": "#636efa",
          "pattern": {
           "shape": ""
          }
         },
         "name": "typical angina",
         "offsetgroup": "typical angina",
         "orientation": "v",
         "showlegend": true,
         "type": "histogram",
         "x": {
          "bdata": "P0A6QkUoMyI0QTs0KjtFOyY4PTw7QC0eIysvNjk+IisuNyA+PkNDQTE+PURKPg==",
          "dtype": "i1"
         },
         "xaxis": "x",
         "yaxis": "y"
        },
        {
         "alignmentgroup": "True",
         "bingroup": "x",
         "hovertemplate": "cp=asymptomatic<br>age=%{x}<br>count=%{y}<extra></extra>",
         "legendgroup": "asymptomatic",
         "marker": {
          "color": "#EF553B",
          "pattern": {
           "shape": ""
          }
         },
         "name": "asymptomatic",
         "offsetgroup": "asymptomatic",
         "orientation": "v",
         "showlegend": true,
         "type": "histogram",
         "x": {
          "bdata": "Q0M+OT81OTY8Kyg8OyorOTdBPTJBLDw2KTM6Njw7Qz5BLDw6LTU1Qj40OzwwLTk7PSc9OCsjP0EwPzc4Nj4zRiM5KjdARjM6PE06OSM1Oz5AOTQ4MDg8Mys+Qy0yQCstOjI+QjQuQDs1Py82Qjc2OC4xQzovNDk6QCtDPSo0KD1CLkc6OTc9OjosPz87OUQ5IyUlJScnKSosLC0tLS4uLi4vMDAwMTEyMjIzNDU1NTY3Nzg5Ojs9PR8hJSYmJigpKSsuLi4vMDAwMTIzNDY2Nzs8P0EgJicoLS4uMDAwMDI0NDU2NjY2Nzg5OikrLDAxMTQ0NDQ1Njc4ODs7QUIpKywvLzExMjI0NDhBIiMkJiYmJigpKiorKysuLi8vMDIyMjIzMzMzMzMzNDQ0NDU1NTU2NjY3Nzc4ODg4ODk5OTk5Ojo6Ozs7Ozw8PDw8PT09PT09PT0+Pj4+Pz8/Pz9AQEBBQUFBQkJEREVFRkY/LDw3QTs+OT4/Lj88OkBFMzw4Nk0/QDw8OjsoPSk5PzszPjVENTszPTk6QTk2SzxAOj1DPkE/RTM+S0M6PD8rQT9APTI7N0FIMkA3Pzs4SjY5NkYwQjdLQDs3OT0pRyY3OEVASEU4PkM5RTMwRUA1Qzo9QDo8OTc4OUozPjU+LjY3Og==",
          "dtype": "i1"
         },
         "xaxis": "x",
         "yaxis": "y"
        },
        {
         "alignmentgroup": "True",
         "bingroup": "x",
         "hovertemplate": "cp=non-anginal<br>age=%{x}<br>count=%{y}<extra></extra>",
         "legendgroup": "non-anginal",
         "marker": {
          "color": "#00cc96",
          "pattern": {
           "shape": ""
          }
         },
         "name": "non-anginal",
         "offsetgroup": "non-anginal",
         "orientation": "v",
         "showlegend": true,
         "type": "histogram",
         "x": {
          "bdata": "JTg0OTA6MjpALD07OjNBNTI2LjY8Ni5BQTMnRCwvNTM+LD9HMTk+OjM2MyszQDovKTxDRDYwNEYrNSpFMkQ5QCUpKTYnQzQxNjwzKkwsLDsqQicvQyYhJCQkJSUmJycnKCgoKioqKy0uLi8wMDExMzMzNDQ1NTY2Nzc4ODg6Ozs8LzExMjo2Oi8zNTYmJi0vLzU1ODg4OTs8PT5ISUJCPDw/P0o0Nzc0PTsqNzw4RUgzNygjP0QwLTE+PkwwPkc1Ojg6NkUlSjc9PTpE",
          "dtype": "i1"
         },
         "xaxis": "x",
         "yaxis": "y"
        },
        {
         "alignmentgroup": "True",
         "bingroup": "x",
         "hovertemplate": "cp=atypical angina<br>age=%{x}<br>count=%{y}<extra></extra>",
         "legendgroup": "atypical angina",
         "marker": {
          "color": "#ab63fa",
          "pattern": {
           "shape": ""
          }
         },
         "name": "atypical angina",
         "offsetgroup": "atypical angina",
         "orientation": "v",
         "showlegend": true,
         "type": "histogram",
         "x": {
          "bdata": "KTg4LDAxOkcpLDA0NDYpLSwdNz47NC0uNi0/QjYyNy4iSjEqKSk+Rjk6OSM6ODg3KTkcHR0fICAgIiIiIyMkJSUmJicnJycnKCgpKSkpKSkqKiorKysrKyssLC0tLS4vLzAwMDAwMDExMTEyMjIyMzMzNDQ0NDQ1NTU1NjY2NjY2NjY2NjY2Nzc3Nzc3ODk6Ojs7PiMkOSw3ODo6NTU3Sjw4Pzg+Oj83PT02OT8+",
          "dtype": "i1"
         },
         "xaxis": "x",
         "yaxis": "y"
        }
       ],
       "layout": {
        "barmode": "group",
        "legend": {
         "title": {
          "text": "cp"
         },
         "tracegroupgap": 0
        },
        "paper_bgcolor": "rgba(0,0,0,0)",
        "plot_bgcolor": "rgba(0,0,0,0)",
        "template": {
         "data": {
          "bar": [
           {
            "error_x": {
             "color": "#2a3f5f"
            },
            "error_y": {
             "color": "#2a3f5f"
            },
            "marker": {
             "line": {
              "color": "#E5ECF6",
              "width": 0.5
             },
             "pattern": {
              "fillmode": "overlay",
              "size": 10,
              "solidity": 0.2
             }
            },
            "type": "bar"
           }
          ],
          "barpolar": [
           {
            "marker": {
             "line": {
              "color": "#E5ECF6",
              "width": 0.5
             },
             "pattern": {
              "fillmode": "overlay",
              "size": 10,
              "solidity": 0.2
             }
            },
            "type": "barpolar"
           }
          ],
          "carpet": [
           {
            "aaxis": {
             "endlinecolor": "#2a3f5f",
             "gridcolor": "white",
             "linecolor": "white",
             "minorgridcolor": "white",
             "startlinecolor": "#2a3f5f"
            },
            "baxis": {
             "endlinecolor": "#2a3f5f",
             "gridcolor": "white",
             "linecolor": "white",
             "minorgridcolor": "white",
             "startlinecolor": "#2a3f5f"
            },
            "type": "carpet"
           }
          ],
          "choropleth": [
           {
            "colorbar": {
             "outlinewidth": 0,
             "ticks": ""
            },
            "type": "choropleth"
           }
          ],
          "contour": [
           {
            "colorbar": {
             "outlinewidth": 0,
             "ticks": ""
            },
            "colorscale": [
             [
              0,
              "#0d0887"
             ],
             [
              0.1111111111111111,
              "#46039f"
             ],
             [
              0.2222222222222222,
              "#7201a8"
             ],
             [
              0.3333333333333333,
              "#9c179e"
             ],
             [
              0.4444444444444444,
              "#bd3786"
             ],
             [
              0.5555555555555556,
              "#d8576b"
             ],
             [
              0.6666666666666666,
              "#ed7953"
             ],
             [
              0.7777777777777778,
              "#fb9f3a"
             ],
             [
              0.8888888888888888,
              "#fdca26"
             ],
             [
              1,
              "#f0f921"
             ]
            ],
            "type": "contour"
           }
          ],
          "contourcarpet": [
           {
            "colorbar": {
             "outlinewidth": 0,
             "ticks": ""
            },
            "type": "contourcarpet"
           }
          ],
          "heatmap": [
           {
            "colorbar": {
             "outlinewidth": 0,
             "ticks": ""
            },
            "colorscale": [
             [
              0,
              "#0d0887"
             ],
             [
              0.1111111111111111,
              "#46039f"
             ],
             [
              0.2222222222222222,
              "#7201a8"
             ],
             [
              0.3333333333333333,
              "#9c179e"
             ],
             [
              0.4444444444444444,
              "#bd3786"
             ],
             [
              0.5555555555555556,
              "#d8576b"
             ],
             [
              0.6666666666666666,
              "#ed7953"
             ],
             [
              0.7777777777777778,
              "#fb9f3a"
             ],
             [
              0.8888888888888888,
              "#fdca26"
             ],
             [
              1,
              "#f0f921"
             ]
            ],
            "type": "heatmap"
           }
          ],
          "histogram": [
           {
            "marker": {
             "pattern": {
              "fillmode": "overlay",
              "size": 10,
              "solidity": 0.2
             }
            },
            "type": "histogram"
           }
          ],
          "histogram2d": [
           {
            "colorbar": {
             "outlinewidth": 0,
             "ticks": ""
            },
            "colorscale": [
             [
              0,
              "#0d0887"
             ],
             [
              0.1111111111111111,
              "#46039f"
             ],
             [
              0.2222222222222222,
              "#7201a8"
             ],
             [
              0.3333333333333333,
              "#9c179e"
             ],
             [
              0.4444444444444444,
              "#bd3786"
             ],
             [
              0.5555555555555556,
              "#d8576b"
             ],
             [
              0.6666666666666666,
              "#ed7953"
             ],
             [
              0.7777777777777778,
              "#fb9f3a"
             ],
             [
              0.8888888888888888,
              "#fdca26"
             ],
             [
              1,
              "#f0f921"
             ]
            ],
            "type": "histogram2d"
           }
          ],
          "histogram2dcontour": [
           {
            "colorbar": {
             "outlinewidth": 0,
             "ticks": ""
            },
            "colorscale": [
             [
              0,
              "#0d0887"
             ],
             [
              0.1111111111111111,
              "#46039f"
             ],
             [
              0.2222222222222222,
              "#7201a8"
             ],
             [
              0.3333333333333333,
              "#9c179e"
             ],
             [
              0.4444444444444444,
              "#bd3786"
             ],
             [
              0.5555555555555556,
              "#d8576b"
             ],
             [
              0.6666666666666666,
              "#ed7953"
             ],
             [
              0.7777777777777778,
              "#fb9f3a"
             ],
             [
              0.8888888888888888,
              "#fdca26"
             ],
             [
              1,
              "#f0f921"
             ]
            ],
            "type": "histogram2dcontour"
           }
          ],
          "mesh3d": [
           {
            "colorbar": {
             "outlinewidth": 0,
             "ticks": ""
            },
            "type": "mesh3d"
           }
          ],
          "parcoords": [
           {
            "line": {
             "colorbar": {
              "outlinewidth": 0,
              "ticks": ""
             }
            },
            "type": "parcoords"
           }
          ],
          "pie": [
           {
            "automargin": true,
            "type": "pie"
           }
          ],
          "scatter": [
           {
            "fillpattern": {
             "fillmode": "overlay",
             "size": 10,
             "solidity": 0.2
            },
            "type": "scatter"
           }
          ],
          "scatter3d": [
           {
            "line": {
             "colorbar": {
              "outlinewidth": 0,
              "ticks": ""
             }
            },
            "marker": {
             "colorbar": {
              "outlinewidth": 0,
              "ticks": ""
             }
            },
            "type": "scatter3d"
           }
          ],
          "scattercarpet": [
           {
            "marker": {
             "colorbar": {
              "outlinewidth": 0,
              "ticks": ""
             }
            },
            "type": "scattercarpet"
           }
          ],
          "scattergeo": [
           {
            "marker": {
             "colorbar": {
              "outlinewidth": 0,
              "ticks": ""
             }
            },
            "type": "scattergeo"
           }
          ],
          "scattergl": [
           {
            "marker": {
             "colorbar": {
              "outlinewidth": 0,
              "ticks": ""
             }
            },
            "type": "scattergl"
           }
          ],
          "scattermap": [
           {
            "marker": {
             "colorbar": {
              "outlinewidth": 0,
              "ticks": ""
             }
            },
            "type": "scattermap"
           }
          ],
          "scattermapbox": [
           {
            "marker": {
             "colorbar": {
              "outlinewidth": 0,
              "ticks": ""
             }
            },
            "type": "scattermapbox"
           }
          ],
          "scatterpolar": [
           {
            "marker": {
             "colorbar": {
              "outlinewidth": 0,
              "ticks": ""
             }
            },
            "type": "scatterpolar"
           }
          ],
          "scatterpolargl": [
           {
            "marker": {
             "colorbar": {
              "outlinewidth": 0,
              "ticks": ""
             }
            },
            "type": "scatterpolargl"
           }
          ],
          "scatterternary": [
           {
            "marker": {
             "colorbar": {
              "outlinewidth": 0,
              "ticks": ""
             }
            },
            "type": "scatterternary"
           }
          ],
          "surface": [
           {
            "colorbar": {
             "outlinewidth": 0,
             "ticks": ""
            },
            "colorscale": [
             [
              0,
              "#0d0887"
             ],
             [
              0.1111111111111111,
              "#46039f"
             ],
             [
              0.2222222222222222,
              "#7201a8"
             ],
             [
              0.3333333333333333,
              "#9c179e"
             ],
             [
              0.4444444444444444,
              "#bd3786"
             ],
             [
              0.5555555555555556,
              "#d8576b"
             ],
             [
              0.6666666666666666,
              "#ed7953"
             ],
             [
              0.7777777777777778,
              "#fb9f3a"
             ],
             [
              0.8888888888888888,
              "#fdca26"
             ],
             [
              1,
              "#f0f921"
             ]
            ],
            "type": "surface"
           }
          ],
          "table": [
           {
            "cells": {
             "fill": {
              "color": "#EBF0F8"
             },
             "line": {
              "color": "white"
             }
            },
            "header": {
             "fill": {
              "color": "#C8D4E3"
             },
             "line": {
              "color": "white"
             }
            },
            "type": "table"
           }
          ]
         },
         "layout": {
          "annotationdefaults": {
           "arrowcolor": "#2a3f5f",
           "arrowhead": 0,
           "arrowwidth": 1
          },
          "autotypenumbers": "strict",
          "coloraxis": {
           "colorbar": {
            "outlinewidth": 0,
            "ticks": ""
           }
          },
          "colorscale": {
           "diverging": [
            [
             0,
             "#8e0152"
            ],
            [
             0.1,
             "#c51b7d"
            ],
            [
             0.2,
             "#de77ae"
            ],
            [
             0.3,
             "#f1b6da"
            ],
            [
             0.4,
             "#fde0ef"
            ],
            [
             0.5,
             "#f7f7f7"
            ],
            [
             0.6,
             "#e6f5d0"
            ],
            [
             0.7,
             "#b8e186"
            ],
            [
             0.8,
             "#7fbc41"
            ],
            [
             0.9,
             "#4d9221"
            ],
            [
             1,
             "#276419"
            ]
           ],
           "sequential": [
            [
             0,
             "#0d0887"
            ],
            [
             0.1111111111111111,
             "#46039f"
            ],
            [
             0.2222222222222222,
             "#7201a8"
            ],
            [
             0.3333333333333333,
             "#9c179e"
            ],
            [
             0.4444444444444444,
             "#bd3786"
            ],
            [
             0.5555555555555556,
             "#d8576b"
            ],
            [
             0.6666666666666666,
             "#ed7953"
            ],
            [
             0.7777777777777778,
             "#fb9f3a"
            ],
            [
             0.8888888888888888,
             "#fdca26"
            ],
            [
             1,
             "#f0f921"
            ]
           ],
           "sequentialminus": [
            [
             0,
             "#0d0887"
            ],
            [
             0.1111111111111111,
             "#46039f"
            ],
            [
             0.2222222222222222,
             "#7201a8"
            ],
            [
             0.3333333333333333,
             "#9c179e"
            ],
            [
             0.4444444444444444,
             "#bd3786"
            ],
            [
             0.5555555555555556,
             "#d8576b"
            ],
            [
             0.6666666666666666,
             "#ed7953"
            ],
            [
             0.7777777777777778,
             "#fb9f3a"
            ],
            [
             0.8888888888888888,
             "#fdca26"
            ],
            [
             1,
             "#f0f921"
            ]
           ]
          },
          "colorway": [
           "#636efa",
           "#EF553B",
           "#00cc96",
           "#ab63fa",
           "#FFA15A",
           "#19d3f3",
           "#FF6692",
           "#B6E880",
           "#FF97FF",
           "#FECB52"
          ],
          "font": {
           "color": "#2a3f5f"
          },
          "geo": {
           "bgcolor": "white",
           "lakecolor": "white",
           "landcolor": "#E5ECF6",
           "showlakes": true,
           "showland": true,
           "subunitcolor": "white"
          },
          "hoverlabel": {
           "align": "left"
          },
          "hovermode": "closest",
          "mapbox": {
           "style": "light"
          },
          "paper_bgcolor": "white",
          "plot_bgcolor": "#E5ECF6",
          "polar": {
           "angularaxis": {
            "gridcolor": "white",
            "linecolor": "white",
            "ticks": ""
           },
           "bgcolor": "#E5ECF6",
           "radialaxis": {
            "gridcolor": "white",
            "linecolor": "white",
            "ticks": ""
           }
          },
          "scene": {
           "xaxis": {
            "backgroundcolor": "#E5ECF6",
            "gridcolor": "white",
            "gridwidth": 2,
            "linecolor": "white",
            "showbackground": true,
            "ticks": "",
            "zerolinecolor": "white"
           },
           "yaxis": {
            "backgroundcolor": "#E5ECF6",
            "gridcolor": "white",
            "gridwidth": 2,
            "linecolor": "white",
            "showbackground": true,
            "ticks": "",
            "zerolinecolor": "white"
           },
           "zaxis": {
            "backgroundcolor": "#E5ECF6",
            "gridcolor": "white",
            "gridwidth": 2,
            "linecolor": "white",
            "showbackground": true,
            "ticks": "",
            "zerolinecolor": "white"
           }
          },
          "shapedefaults": {
           "line": {
            "color": "#2a3f5f"
           }
          },
          "ternary": {
           "aaxis": {
            "gridcolor": "white",
            "linecolor": "white",
            "ticks": ""
           },
           "baxis": {
            "gridcolor": "white",
            "linecolor": "white",
            "ticks": ""
           },
           "bgcolor": "#E5ECF6",
           "caxis": {
            "gridcolor": "white",
            "linecolor": "white",
            "ticks": ""
           }
          },
          "title": {
           "x": 0.05
          },
          "xaxis": {
           "automargin": true,
           "gridcolor": "white",
           "linecolor": "white",
           "ticks": "",
           "title": {
            "standoff": 15
           },
           "zerolinecolor": "white",
           "zerolinewidth": 2
          },
          "yaxis": {
           "automargin": true,
           "gridcolor": "white",
           "linecolor": "white",
           "ticks": "",
           "title": {
            "standoff": 15
           },
           "zerolinecolor": "white",
           "zerolinewidth": 2
          }
         }
        },
        "title": {
         "text": "Age Distribution by Chest Pain Type (cp)"
        },
        "xaxis": {
         "anchor": "y",
         "domain": [
          0,
          1
         ],
         "title": {
          "text": "age"
         }
        },
        "yaxis": {
         "anchor": "x",
         "domain": [
          0,
          1
         ],
         "title": {
          "text": "count"
         }
        }
       }
      }
     },
     "metadata": {},
     "output_type": "display_data"
    }
   ],
   "source": [
    "# draw the plot of age column grouped by cp column using plotly express\n",
    "fig = px.histogram(data, x='age', color='cp', barmode='group', title='Age Distribution by Chest Pain Type (cp)')\n",
    "\n",
    "# change the background color of the plot\n",
    "fig.update_layout(plot_bgcolor='rgba(0,0,0,0)', paper_bgcolor='rgba(0,0,0,0)')\n",
    "fig\n"
   ]
  },
  {
   "cell_type": "code",
   "execution_count": 22,
   "id": "8e2f7c1f",
   "metadata": {},
   "outputs": [
    {
     "name": "stdout",
     "output_type": "stream",
     "text": [
      "cp\n",
      "asymptomatic       54.959677\n",
      "atypical angina    49.241379\n",
      "non-anginal        53.333333\n",
      "typical angina     54.826087\n",
      "Name: age, dtype: float64\n",
      "______________________________________________________\n",
      "cp\n",
      "asymptomatic       56.0\n",
      "atypical angina    50.5\n",
      "non-anginal        53.5\n",
      "typical angina     59.0\n",
      "Name: age, dtype: float64\n",
      "______________________________________________________\n",
      "cp\n",
      "asymptomatic       57\n",
      "atypical angina    54\n",
      "non-anginal        51\n",
      "typical angina     62\n",
      "Name: age, dtype: int64\n",
      "______________________________________________________\n"
     ]
    }
   ],
   "source": [
    "# print the mean, median, and mode of the age column grouped by cp column   \n",
    "mean_age_cp = data.groupby('cp')['age'].mean()\n",
    "median_age_cp = data.groupby('cp')['age'].median()  \n",
    "mode_age_cp = data.groupby('cp')['age'].agg(lambda x: x.mode()[0])\n",
    "print(mean_age_cp)\n",
    "print(\"______________________________________________________\")\n",
    "print(median_age_cp)\n",
    "print(\"______________________________________________________\")\n",
    "print(mode_age_cp)\n",
    "print(\"______________________________________________________\")"
   ]
  },
  {
   "cell_type": "markdown",
   "id": "1514ff90",
   "metadata": {},
   "source": [
    "#### Let's explore the trestbs (resting blood pressure) column\n",
    "\n",
    "The normal resting blood pressure for a healthy adult is typically around 120/80 mm Hg (millimeters of mercury).\n",
    "\n",
    "Write here, what will happen if the blood pressure is high or low and then you can bin the data base on those value\n"
   ]
  },
  {
   "cell_type": "code",
   "execution_count": 23,
   "id": "cda02874",
   "metadata": {},
   "outputs": [
    {
     "data": {
      "text/plain": [
       "count    861.000000\n",
       "mean     132.132404\n",
       "std       19.066070\n",
       "min        0.000000\n",
       "25%      120.000000\n",
       "50%      130.000000\n",
       "75%      140.000000\n",
       "max      200.000000\n",
       "Name: trestbps, dtype: float64"
      ]
     },
     "execution_count": 23,
     "metadata": {},
     "output_type": "execute_result"
    }
   ],
   "source": [
    "# find he value counts of trestbps column\n",
    "data['trestbps'].describe()"
   ]
  },
  {
   "cell_type": "code",
   "execution_count": 24,
   "id": "adefc0eb",
   "metadata": {},
   "outputs": [
    {
     "data": {
      "text/plain": [
       "<Axes: xlabel='trestbps', ylabel='Count'>"
      ]
     },
     "execution_count": 24,
     "metadata": {},
     "output_type": "execute_result"
    },
    {
     "data": {
      "image/png": "[encoded data removed]",
      "text/plain": [
       "<Figure size 640x480 with 1 Axes>"
      ]
     },
     "metadata": {},
     "output_type": "display_data"
    }
   ],
   "source": [
    "# create a histogram of trestbps column using seaborn\n",
    "sns.histplot(data['trestbps'], kde=True, bins=30)"
   ]
  },
  {
   "cell_type": "markdown",
   "id": "5eaa03fd",
   "metadata": {},
   "source": [
    "## Dealing with Missing Values\n"
   ]
  },
  {
   "cell_type": "code",
   "execution_count": 25,
   "id": "ed69ce7d",
   "metadata": {},
   "outputs": [
    {
     "name": "stdout",
     "output_type": "stream",
     "text": [
      "Percentage of missing values in trestbps column: 6.41%\n"
     ]
    }
   ],
   "source": [
    "# Deal with missing values in the trestbps column\n",
    "\n",
    "# find the percentage of missing values in the trestbps column\n",
    "print(f\"Percentage of missing values in trestbps column: {data['trestbps'].isnull().mean() * 100:.2f}%\")"
   ]
  },
  {
   "cell_type": "code",
   "execution_count": 26,
   "id": "cbc820ff",
   "metadata": {},
   "outputs": [
    {
     "name": "stdout",
     "output_type": "stream",
     "text": [
      "Percentage of missing values in trestbps column after imputation: 0.00%\n"
     ]
    }
   ],
   "source": [
    "# impute the missing values in the trestbps column using iterative imputer\n",
    "imputer = IterativeImputer(max_iter=10, random_state=42)\n",
    "\n",
    "# fit the imputer on trestbps column\n",
    "data['trestbps'] = imputer.fit_transform(data[['trestbps']])\n",
    "\n",
    "# check the missing values in the trestbps column \n",
    "print(f\"Percentage of missing values in trestbps column after imputation: {data['trestbps'].isnull().mean() * 100:.2f}%\")"
   ]
  },
  {
   "cell_type": "code",
   "execution_count": 27,
   "id": "92a6acf1",
   "metadata": {},
   "outputs": [],
   "source": [
    "# impute the missing values using iterative imputer for ca, oldpeak, thalch, chol, columns\n",
    "# create an object of iterative imputer\n",
    "imputer = IterativeImputer(max_iter=10, random_state=42)\n",
    "\n",
    "# fit_transform the imputer on the selected columns\n",
    "data['ca'] = imputer.fit_transform(data[['ca']]) \n",
    "data['oldpeak'] = imputer.fit_transform(data[['oldpeak']])\n",
    "data['thalch'] = imputer.fit_transform(data[['thalch']])\n",
    "data['chol'] = imputer.fit_transform(data[['chol']])   "
   ]
  },
  {
   "cell_type": "markdown",
   "id": "2377f6f5",
   "metadata": {},
   "source": [
    "### Let's impute the missing values in the thal column using ML models\n"
   ]
  },
  {
   "cell_type": "code",
   "execution_count": 28,
   "id": "2adbd53e",
   "metadata": {},
   "outputs": [
    {
     "name": "stdout",
     "output_type": "stream",
     "text": [
      " The missing values in the thal are: 52.83%\n"
     ]
    }
   ],
   "source": [
    "print(f' The missing values in the thal are: {data[\"thal\"].isnull().mean() * 100:.2f}%')"
   ]
  },
  {
   "cell_type": "code",
   "execution_count": 29,
   "id": "37c74177",
   "metadata": {},
   "outputs": [
    {
     "data": {
      "text/plain": [
       "thal\n",
       "normal               196\n",
       "reversable defect    192\n",
       "fixed defect          46\n",
       "Name: count, dtype: int64"
      ]
     },
     "execution_count": 29,
     "metadata": {},
     "output_type": "execute_result"
    }
   ],
   "source": [
    "data['thal'].value_counts()"
   ]
  },
  {
   "cell_type": "code",
   "execution_count": 30,
   "id": "bf6f3ea2",
   "metadata": {},
   "outputs": [],
   "source": [
    "def impute_categorical_rf(df, column_name):\n",
    "    \"\"\"\n",
    "    Impute missing categorical values in a specified column using RandomForestClassifier.\n",
    "    \n",
    "    Parameters:\n",
    "    df (pd.DataFrame): The input DataFrame.\n",
    "    column_name (str): The name of the categorical column to impute.\n",
    "    \n",
    "    Returns:\n",
    "    pd.DataFrame: DataFrame with imputed values in the specified column, with original categories restored.\n",
    "    \"\"\"\n",
    "    # Create a copy to avoid modifying the original DataFrame\n",
    "    df = df.copy()\n",
    "\n",
    "    # Check if the target column has missing values\n",
    "    if df[column_name].isnull().sum() == 0:\n",
    "        print(f\"No missing values found in '{column_name}'. Returning original DataFrame.\")\n",
    "        return df\n",
    "\n",
    "    # Initialize a dictionary to store LabelEncoders for all categorical columns\n",
    "    label_encoders = {}\n",
    "\n",
    "    # Encode all object (categorical) columns with LabelEncoder\n",
    "    for col in df.select_dtypes(include='object').columns:\n",
    "        le = LabelEncoder()\n",
    "        df[col] = df[col].astype(str)\n",
    "        df[col] = le.fit_transform(df[col])\n",
    "        label_encoders[col] = le\n",
    "\n",
    "    # Separate the data into rows with and without missing target values\n",
    "    df_not_missing = df[df[column_name].notnull()]\n",
    "    df_missing = df[df[column_name].isnull()]\n",
    "\n",
    "    # Check if all target values are missing (cannot impute)\n",
    "    if df_not_missing.shape[0] == 0:\n",
    "        raise ValueError(f\"Cannot impute '{column_name}' because all values are missing.\")\n",
    "\n",
    "    # Features (independent variables) and target (dependent variable)\n",
    "    X_train = df_not_missing.drop(column_name, axis=1)\n",
    "    y_train = df_not_missing[column_name]\n",
    "    X_pred = df_missing.drop(column_name, axis=1)\n",
    "\n",
    "    # Impute missing values in features using 'most_frequent' strategy\n",
    "    imputer = SimpleImputer(strategy='most_frequent')\n",
    "    X_train = pd.DataFrame(imputer.fit_transform(X_train), columns=X_train.columns)\n",
    "\n",
    "    # If no missing rows to predict, decode the categorical columns and return the DataFrame\n",
    "    if X_pred.shape[0] == 0:\n",
    "        for col, le in label_encoders.items():\n",
    "            df[col] = le.inverse_transform(df[col].astype(int))\n",
    "        return df\n",
    "\n",
    "    X_pred = pd.DataFrame(imputer.transform(X_pred), columns=X_pred.columns)\n",
    "\n",
    "    # Train the RandomForestClassifier on the available data\n",
    "    model = RandomForestClassifier(n_estimators=100, random_state=42)\n",
    "    model.fit(X_train, y_train)\n",
    "\n",
    "    # Predict the missing values for the target column\n",
    "    y_pred_encoded = model.predict(X_pred)\n",
    "\n",
    "    # Fill the missing values in the original DataFrame\n",
    "    df.loc[df[column_name].isnull(), column_name] = y_pred_encoded\n",
    "\n",
    "    # Reverse encoding: decode all categorical columns back to their original string representation\n",
    "    for col, le in label_encoders.items():\n",
    "        df[col] = le.inverse_transform(df[col].astype(int))\n",
    "\n",
    "    return df"
   ]
  },
  {
   "cell_type": "code",
   "execution_count": 31,
   "id": "b13dae9b",
   "metadata": {},
   "outputs": [
    {
     "name": "stdout",
     "output_type": "stream",
     "text": [
      "Percentage of missing values in thal column after imputation: 0.00%\n"
     ]
    }
   ],
   "source": [
    "# use the function to impute the missing values in the thal column\n",
    "data = impute_categorical_rf(data, 'thal')\n",
    "\n",
    "# check the missing values in the thal column after imputation\n",
    "print(f\"Percentage of missing values in thal column after imputation: {data['thal'].isnull().mean() * 100:.2f}%\")"
   ]
  },
  {
   "cell_type": "code",
   "execution_count": 32,
   "id": "c3c875e3",
   "metadata": {},
   "outputs": [
    {
     "data": {
      "text/plain": [
       "id          0.0\n",
       "age         0.0\n",
       "sex         0.0\n",
       "dataset     0.0\n",
       "cp          0.0\n",
       "trestbps    0.0\n",
       "chol        0.0\n",
       "fbs         0.0\n",
       "restecg     0.0\n",
       "thalch      0.0\n",
       "exang       0.0\n",
       "oldpeak     0.0\n",
       "slope       0.0\n",
       "ca          0.0\n",
       "thal        0.0\n",
       "num         0.0\n",
       "dtype: float64"
      ]
     },
     "execution_count": 32,
     "metadata": {},
     "output_type": "execute_result"
    }
   ],
   "source": [
    "# Let's impute the other columns with missing values using the same imputer\n",
    "(data.isnull().sum() / len(data) * 100).sort_values(ascending=False)      "
   ]
  },
  {
   "cell_type": "code",
   "execution_count": 33,
   "id": "6b95a2e5",
   "metadata": {},
   "outputs": [
    {
     "data": {
      "text/html": [
       "<div>\n",
       "<style scoped>\n",
       "    .dataframe tbody tr th:only-of-type {\n",
       "        vertical-align: middle;\n",
       "    }\n",
       "\n",
       "    .dataframe tbody tr th {\n",
       "        vertical-align: top;\n",
       "    }\n",
       "\n",
       "    .dataframe thead th {\n",
       "        text-align: right;\n",
       "    }\n",
       "</style>\n",
       "<table border=\"1\" class=\"dataframe\">\n",
       "  <thead>\n",
       "    <tr style=\"text-align: right;\">\n",
       "      <th></th>\n",
       "      <th>id</th>\n",
       "      <th>age</th>\n",
       "      <th>sex</th>\n",
       "      <th>dataset</th>\n",
       "      <th>cp</th>\n",
       "      <th>trestbps</th>\n",
       "      <th>chol</th>\n",
       "      <th>fbs</th>\n",
       "      <th>restecg</th>\n",
       "      <th>thalch</th>\n",
       "      <th>exang</th>\n",
       "      <th>oldpeak</th>\n",
       "      <th>slope</th>\n",
       "      <th>ca</th>\n",
       "      <th>thal</th>\n",
       "      <th>num</th>\n",
       "    </tr>\n",
       "  </thead>\n",
       "  <tbody>\n",
       "    <tr>\n",
       "      <th>0</th>\n",
       "      <td>1</td>\n",
       "      <td>63</td>\n",
       "      <td>Male</td>\n",
       "      <td>Cleveland</td>\n",
       "      <td>typical angina</td>\n",
       "      <td>145.0</td>\n",
       "      <td>233.0</td>\n",
       "      <td>True</td>\n",
       "      <td>lv hypertrophy</td>\n",
       "      <td>150.0</td>\n",
       "      <td>False</td>\n",
       "      <td>2.3</td>\n",
       "      <td>downsloping</td>\n",
       "      <td>0.0</td>\n",
       "      <td>fixed defect</td>\n",
       "      <td>0</td>\n",
       "    </tr>\n",
       "    <tr>\n",
       "      <th>1</th>\n",
       "      <td>2</td>\n",
       "      <td>67</td>\n",
       "      <td>Male</td>\n",
       "      <td>Cleveland</td>\n",
       "      <td>asymptomatic</td>\n",
       "      <td>160.0</td>\n",
       "      <td>286.0</td>\n",
       "      <td>False</td>\n",
       "      <td>lv hypertrophy</td>\n",
       "      <td>108.0</td>\n",
       "      <td>True</td>\n",
       "      <td>1.5</td>\n",
       "      <td>flat</td>\n",
       "      <td>3.0</td>\n",
       "      <td>normal</td>\n",
       "      <td>2</td>\n",
       "    </tr>\n",
       "    <tr>\n",
       "      <th>2</th>\n",
       "      <td>3</td>\n",
       "      <td>67</td>\n",
       "      <td>Male</td>\n",
       "      <td>Cleveland</td>\n",
       "      <td>asymptomatic</td>\n",
       "      <td>120.0</td>\n",
       "      <td>229.0</td>\n",
       "      <td>False</td>\n",
       "      <td>lv hypertrophy</td>\n",
       "      <td>129.0</td>\n",
       "      <td>True</td>\n",
       "      <td>2.6</td>\n",
       "      <td>flat</td>\n",
       "      <td>2.0</td>\n",
       "      <td>reversable defect</td>\n",
       "      <td>1</td>\n",
       "    </tr>\n",
       "    <tr>\n",
       "      <th>3</th>\n",
       "      <td>4</td>\n",
       "      <td>37</td>\n",
       "      <td>Male</td>\n",
       "      <td>Cleveland</td>\n",
       "      <td>non-anginal</td>\n",
       "      <td>130.0</td>\n",
       "      <td>250.0</td>\n",
       "      <td>False</td>\n",
       "      <td>normal</td>\n",
       "      <td>187.0</td>\n",
       "      <td>False</td>\n",
       "      <td>3.5</td>\n",
       "      <td>downsloping</td>\n",
       "      <td>0.0</td>\n",
       "      <td>normal</td>\n",
       "      <td>0</td>\n",
       "    </tr>\n",
       "    <tr>\n",
       "      <th>4</th>\n",
       "      <td>5</td>\n",
       "      <td>41</td>\n",
       "      <td>Female</td>\n",
       "      <td>Cleveland</td>\n",
       "      <td>atypical angina</td>\n",
       "      <td>130.0</td>\n",
       "      <td>204.0</td>\n",
       "      <td>False</td>\n",
       "      <td>lv hypertrophy</td>\n",
       "      <td>172.0</td>\n",
       "      <td>False</td>\n",
       "      <td>1.4</td>\n",
       "      <td>upsloping</td>\n",
       "      <td>0.0</td>\n",
       "      <td>normal</td>\n",
       "      <td>0</td>\n",
       "    </tr>\n",
       "  </tbody>\n",
       "</table>\n",
       "</div>"
      ],
      "text/plain": [
       "   id  age     sex    dataset               cp  trestbps   chol    fbs  \\\n",
       "0   1   63    Male  Cleveland   typical angina     145.0  233.0   True   \n",
       "1   2   67    Male  Cleveland     asymptomatic     160.0  286.0  False   \n",
       "2   3   67    Male  Cleveland     asymptomatic     120.0  229.0  False   \n",
       "3   4   37    Male  Cleveland      non-anginal     130.0  250.0  False   \n",
       "4   5   41  Female  Cleveland  atypical angina     130.0  204.0  False   \n",
       "\n",
       "          restecg  thalch  exang  oldpeak        slope   ca  \\\n",
       "0  lv hypertrophy   150.0  False      2.3  downsloping  0.0   \n",
       "1  lv hypertrophy   108.0   True      1.5         flat  3.0   \n",
       "2  lv hypertrophy   129.0   True      2.6         flat  2.0   \n",
       "3          normal   187.0  False      3.5  downsloping  0.0   \n",
       "4  lv hypertrophy   172.0  False      1.4    upsloping  0.0   \n",
       "\n",
       "                thal  num  \n",
       "0       fixed defect    0  \n",
       "1             normal    2  \n",
       "2  reversable defect    1  \n",
       "3             normal    0  \n",
       "4             normal    0  "
      ]
     },
     "execution_count": 33,
     "metadata": {},
     "output_type": "execute_result"
    }
   ],
   "source": [
    "# check the reverse encoding of the thal column\n",
    "data.head()"
   ]
  },
  {
   "cell_type": "markdown",
   "id": "994a5f59",
   "metadata": {},
   "source": [
    "## Dealing with Outliers\n"
   ]
  },
  {
   "cell_type": "code",
   "execution_count": 34,
   "id": "0cd75122",
   "metadata": {},
   "outputs": [],
   "source": [
    "# Select numeric columns, excluding 'id', 'ca', and 'num'\n",
    "numeric_cols = data.select_dtypes(include=['number']).columns.drop(['id', 'ca', 'num'])"
   ]
  },
  {
   "cell_type": "markdown",
   "id": "9efd23cb",
   "metadata": {},
   "source": [
    "## Box plot using seaborn\n"
   ]
  },
  {
   "cell_type": "code",
   "execution_count": 35,
   "id": "6cd3d32d",
   "metadata": {},
   "outputs": [
    {
     "data": {
      "image/png": "[encoded data removed]",
      "text/plain": [
       "<Figure size 1400x1500 with 5 Axes>"
      ]
     },
     "metadata": {},
     "output_type": "display_data"
    }
   ],
   "source": [
    "# Define subplot grid: 2 columns, calculate required rows\n",
    "n_cols = 2\n",
    "n_rows = int(np.ceil(len(numeric_cols) / n_cols))\n",
    "\n",
    "# Define your **own set of colors**\n",
    "colors = ['red', 'orange', 'green', 'cyan', 'magenta']  # Add more if needed\n",
    "\n",
    "# Create subplots\n",
    "fig, axes = plt.subplots(nrows=n_rows, ncols=n_cols, figsize=(14, 5 * n_rows))\n",
    "\n",
    "# Flatten axes array for easy iteration\n",
    "axes = axes.flatten()\n",
    "\n",
    "# Plot each numeric column with its corresponding color\n",
    "for ax, col, color in zip(axes, numeric_cols, colors):\n",
    "    sns.boxplot(x=data[col], ax=ax, color=color, fliersize=5)\n",
    "    ax.set_title(f'Box Plot of {col}', fontsize=12, color='white')\n",
    "    ax.set_facecolor('black')\n",
    "    ax.tick_params(colors='white')\n",
    "    ax.xaxis.label.set_color('white')\n",
    "\n",
    "# Hide any unused subplots\n",
    "for i in range(len(numeric_cols), len(axes)):\n",
    "    fig.delaxes(axes[i])\n",
    "\n",
    "# Set overall figure background\n",
    "fig.patch.set_facecolor('black')\n",
    "\n",
    "# Adjust layout for spacing\n",
    "plt.tight_layout()\n",
    "plt.show()"
   ]
  },
  {
   "cell_type": "code",
   "execution_count": 36,
   "id": "08a26c95",
   "metadata": {},
   "outputs": [
    {
     "name": "stdout",
     "output_type": "stream",
     "text": [
      "Numerical Columns: Index(['id', 'age', 'trestbps', 'chol', 'thalch', 'oldpeak', 'ca', 'num'], dtype='object')\n"
     ]
    }
   ],
   "source": [
    "# Display numerical columns\n",
    "numerical_cols = data.select_dtypes(include=['int64', 'float64']).columns\n",
    "print(\"Numerical Columns:\", numerical_cols)\n",
    "\n",
    "# Function to detect and remove outliers using IQR\n",
    "def remove_outliers_iqr(data, column):\n",
    "    Q1 = data[column].quantile(0.25)\n",
    "    Q3 = data[column].quantile(0.75)\n",
    "    IQR = Q3 - Q1\n",
    "    lower_bound = Q1 - 1.5 * IQR\n",
    "    upper_bound = Q3 + 1.5 * IQR\n",
    "    cleaned_data = data[(data[column] >= lower_bound) & (data[column] <= upper_bound)]\n",
    "    return cleaned_data\n",
    "\n",
    "# Remove outliers from all numerical columns\n",
    "data = data.copy()\n",
    "for col in numerical_cols:\n",
    "    data = remove_outliers_iqr(data, col)\n"
   ]
  },
  {
   "cell_type": "code",
   "execution_count": 37,
   "id": "e30963e1",
   "metadata": {},
   "outputs": [
    {
     "name": "stdout",
     "output_type": "stream",
     "text": [
      "<class 'pandas.core.frame.DataFrame'>\n",
      "Index: 382 entries, 166 to 919\n",
      "Data columns (total 16 columns):\n",
      " #   Column    Non-Null Count  Dtype  \n",
      "---  ------    --------------  -----  \n",
      " 0   id        382 non-null    int64  \n",
      " 1   age       382 non-null    int64  \n",
      " 2   sex       382 non-null    object \n",
      " 3   dataset   382 non-null    object \n",
      " 4   cp        382 non-null    object \n",
      " 5   trestbps  382 non-null    float64\n",
      " 6   chol      382 non-null    float64\n",
      " 7   fbs       382 non-null    object \n",
      " 8   restecg   382 non-null    object \n",
      " 9   thalch    382 non-null    float64\n",
      " 10  exang     382 non-null    object \n",
      " 11  oldpeak   382 non-null    float64\n",
      " 12  slope     382 non-null    object \n",
      " 13  ca        382 non-null    float64\n",
      " 14  thal      382 non-null    object \n",
      " 15  num       382 non-null    int64  \n",
      "dtypes: float64(5), int64(3), object(8)\n",
      "memory usage: 50.7+ KB\n"
     ]
    }
   ],
   "source": [
    "data.info()"
   ]
  },
  {
   "cell_type": "code",
   "execution_count": 38,
   "id": "8708c851",
   "metadata": {},
   "outputs": [
    {
     "data": {
      "text/html": [
       "<div>\n",
       "<style scoped>\n",
       "    .dataframe tbody tr th:only-of-type {\n",
       "        vertical-align: middle;\n",
       "    }\n",
       "\n",
       "    .dataframe tbody tr th {\n",
       "        vertical-align: top;\n",
       "    }\n",
       "\n",
       "    .dataframe thead th {\n",
       "        text-align: right;\n",
       "    }\n",
       "</style>\n",
       "<table border=\"1\" class=\"dataframe\">\n",
       "  <thead>\n",
       "    <tr style=\"text-align: right;\">\n",
       "      <th></th>\n",
       "      <th>id</th>\n",
       "      <th>age</th>\n",
       "      <th>sex</th>\n",
       "      <th>dataset</th>\n",
       "      <th>cp</th>\n",
       "      <th>trestbps</th>\n",
       "      <th>chol</th>\n",
       "      <th>fbs</th>\n",
       "      <th>restecg</th>\n",
       "      <th>thalch</th>\n",
       "      <th>exang</th>\n",
       "      <th>oldpeak</th>\n",
       "      <th>slope</th>\n",
       "      <th>ca</th>\n",
       "      <th>thal</th>\n",
       "      <th>num</th>\n",
       "    </tr>\n",
       "  </thead>\n",
       "  <tbody>\n",
       "    <tr>\n",
       "      <th>166</th>\n",
       "      <td>167</td>\n",
       "      <td>52</td>\n",
       "      <td>Male</td>\n",
       "      <td>Cleveland</td>\n",
       "      <td>non-anginal</td>\n",
       "      <td>138.0</td>\n",
       "      <td>223.0</td>\n",
       "      <td>False</td>\n",
       "      <td>normal</td>\n",
       "      <td>169.0</td>\n",
       "      <td>False</td>\n",
       "      <td>0.0</td>\n",
       "      <td>upsloping</td>\n",
       "      <td>0.676375</td>\n",
       "      <td>normal</td>\n",
       "      <td>0</td>\n",
       "    </tr>\n",
       "    <tr>\n",
       "      <th>192</th>\n",
       "      <td>193</td>\n",
       "      <td>43</td>\n",
       "      <td>Male</td>\n",
       "      <td>Cleveland</td>\n",
       "      <td>asymptomatic</td>\n",
       "      <td>132.0</td>\n",
       "      <td>247.0</td>\n",
       "      <td>True</td>\n",
       "      <td>lv hypertrophy</td>\n",
       "      <td>143.0</td>\n",
       "      <td>True</td>\n",
       "      <td>0.1</td>\n",
       "      <td>flat</td>\n",
       "      <td>0.676375</td>\n",
       "      <td>reversable defect</td>\n",
       "      <td>1</td>\n",
       "    </tr>\n",
       "    <tr>\n",
       "      <th>287</th>\n",
       "      <td>288</td>\n",
       "      <td>58</td>\n",
       "      <td>Male</td>\n",
       "      <td>Cleveland</td>\n",
       "      <td>atypical angina</td>\n",
       "      <td>125.0</td>\n",
       "      <td>220.0</td>\n",
       "      <td>False</td>\n",
       "      <td>normal</td>\n",
       "      <td>144.0</td>\n",
       "      <td>False</td>\n",
       "      <td>0.4</td>\n",
       "      <td>flat</td>\n",
       "      <td>0.676375</td>\n",
       "      <td>reversable defect</td>\n",
       "      <td>0</td>\n",
       "    </tr>\n",
       "    <tr>\n",
       "      <th>302</th>\n",
       "      <td>303</td>\n",
       "      <td>38</td>\n",
       "      <td>Male</td>\n",
       "      <td>Cleveland</td>\n",
       "      <td>non-anginal</td>\n",
       "      <td>138.0</td>\n",
       "      <td>175.0</td>\n",
       "      <td>False</td>\n",
       "      <td>normal</td>\n",
       "      <td>173.0</td>\n",
       "      <td>False</td>\n",
       "      <td>0.0</td>\n",
       "      <td>upsloping</td>\n",
       "      <td>0.676375</td>\n",
       "      <td>normal</td>\n",
       "      <td>0</td>\n",
       "    </tr>\n",
       "    <tr>\n",
       "      <th>303</th>\n",
       "      <td>304</td>\n",
       "      <td>28</td>\n",
       "      <td>Male</td>\n",
       "      <td>Cleveland</td>\n",
       "      <td>atypical angina</td>\n",
       "      <td>130.0</td>\n",
       "      <td>132.0</td>\n",
       "      <td>False</td>\n",
       "      <td>lv hypertrophy</td>\n",
       "      <td>185.0</td>\n",
       "      <td>False</td>\n",
       "      <td>0.0</td>\n",
       "      <td>nan</td>\n",
       "      <td>0.676375</td>\n",
       "      <td>nan</td>\n",
       "      <td>0</td>\n",
       "    </tr>\n",
       "  </tbody>\n",
       "</table>\n",
       "</div>"
      ],
      "text/plain": [
       "      id  age   sex    dataset               cp  trestbps   chol    fbs  \\\n",
       "166  167   52  Male  Cleveland      non-anginal     138.0  223.0  False   \n",
       "192  193   43  Male  Cleveland     asymptomatic     132.0  247.0   True   \n",
       "287  288   58  Male  Cleveland  atypical angina     125.0  220.0  False   \n",
       "302  303   38  Male  Cleveland      non-anginal     138.0  175.0  False   \n",
       "303  304   28  Male  Cleveland  atypical angina     130.0  132.0  False   \n",
       "\n",
       "            restecg  thalch  exang  oldpeak      slope        ca  \\\n",
       "166          normal   169.0  False      0.0  upsloping  0.676375   \n",
       "192  lv hypertrophy   143.0   True      0.1       flat  0.676375   \n",
       "287          normal   144.0  False      0.4       flat  0.676375   \n",
       "302          normal   173.0  False      0.0  upsloping  0.676375   \n",
       "303  lv hypertrophy   185.0  False      0.0        nan  0.676375   \n",
       "\n",
       "                  thal  num  \n",
       "166             normal    0  \n",
       "192  reversable defect    1  \n",
       "287  reversable defect    0  \n",
       "302             normal    0  \n",
       "303                nan    0  "
      ]
     },
     "execution_count": 38,
     "metadata": {},
     "output_type": "execute_result"
    }
   ],
   "source": [
    "data.head()"
   ]
  },
  {
   "cell_type": "markdown",
   "id": "6257f132",
   "metadata": {},
   "source": [
    "## Box plot using plotly\n"
   ]
  },
  {
   "cell_type": "code",
   "execution_count": 39,
   "id": "af20a093",
   "metadata": {},
   "outputs": [
    {
     "data": {
      "application/vnd.plotly.v1+json": {
       "config": {
        "plotlyServerURL": "https://plot.ly"
       },
       "data": [
        {
         "boxpoints": "outliers",
         "marker": {
          "color": "red"
         },
         "name": "age",
         "type": "box",
         "x": {
          "bdata": "NCs6JhwdHR4fICAgISIiIiMjIyMkJCQkJSUlJSUlJSYmJicnJycnJycnJygoKCgoKSkpKSkpKSoqKioqKiorKysrKysrKywsLC0tLS0tLS4uLi4uLi8vLy8vMDAwMDAwMDAwMDAxMTExMTExMTIyMjIyMjMzMzMzMzM0NDQ0NDQ0NDU1NTU1NTU1NjY2NjY2NjY2NjY2NjY2Njc3Nzc3Nzc3Nzc4ODg4ODk5Ojo6Ojs7Ozw9PT4+HyEiIyQlJiYmKSkrLi4uLzAwMDExMTIyMzQ2Njc5Ojs8P0EmJygrLS4uMDAwMDI0NDU2NjY3ODk6OikrLCwuLzAxMTM0NDY3Nzc4ODg6OztBQikrLy8xMTI0NDY4QT8sPDdCPDg+Ljw8OjsqPjgzOT83OUFLPEA9Qz4/Mz43KDo8Iz5EP0AyOzctPUgyNz82OT42Rj0wMEJEPjU6Szo2Njs3KSY3OEVASEU4M0VFQDUlSj86QDw5Nzc4OT06SkQzPi42Pjc6Pg==",
          "dtype": "i1"
         },
         "xaxis": "x",
         "yaxis": "y"
        },
        {
         "boxpoints": "outliers",
         "marker": {
          "color": "orange"
         },
         "name": "trestbps",
         "type": "box",
         "x": {
          "bdata": "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",
          "dtype": "f8"
         },
         "xaxis": "x2",
         "yaxis": "y2"
        },
        {
         "boxpoints": "outliers",
         "marker": {
          "color": "green"
         },
         "name": "chol",
         "type": "box",
         "x": {
          "bdata": "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",
          "dtype": "f8"
         },
         "xaxis": "x3",
         "yaxis": "y3"
        },
        {
         "boxpoints": "outliers",
         "marker": {
          "color": "cyan"
         },
         "name": "thalch",
         "type": "box",
         "x": {
          "bdata": "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",
          "dtype": "f8"
         },
         "xaxis": "x4",
         "yaxis": "y4"
        },
        {
         "boxpoints": "outliers",
         "marker": {
          "color": "magenta"
         },
         "name": "oldpeak",
         "type": "box",
         "x": {
          "bdata": "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",
          "dtype": "f8"
         },
         "xaxis": "x5",
         "yaxis": "y5"
        }
       ],
       "layout": {
        "annotations": [
         {
          "font": {
           "size": 16
          },
          "showarrow": false,
          "text": "age",
          "x": 0.225,
          "xanchor": "center",
          "xref": "paper",
          "y": 1,
          "yanchor": "bottom",
          "yref": "paper"
         },
         {
          "font": {
           "size": 16
          },
          "showarrow": false,
          "text": "trestbps",
          "x": 0.775,
          "xanchor": "center",
          "xref": "paper",
          "y": 1,
          "yanchor": "bottom",
          "yref": "paper"
         },
         {
          "font": {
           "size": 16
          },
          "showarrow": false,
          "text": "chol",
          "x": 0.225,
          "xanchor": "center",
          "xref": "paper",
          "y": 0.6111111111111112,
          "yanchor": "bottom",
          "yref": "paper"
         },
         {
          "font": {
           "size": 16
          },
          "showarrow": false,
          "text": "thalch",
          "x": 0.775,
          "xanchor": "center",
          "xref": "paper",
          "y": 0.6111111111111112,
          "yanchor": "bottom",
          "yref": "paper"
         },
         {
          "font": {
           "size": 16
          },
          "showarrow": false,
          "text": "oldpeak",
          "x": 0.225,
          "xanchor": "center",
          "xref": "paper",
          "y": 0.22222222222222224,
          "yanchor": "bottom",
          "yref": "paper"
         }
        ],
        "font": {
         "color": "white"
        },
        "height": 900,
        "paper_bgcolor": "black",
        "plot_bgcolor": "black",
        "showlegend": false,
        "template": {
         "data": {
          "bar": [
           {
            "error_x": {
             "color": "#2a3f5f"
            },
            "error_y": {
             "color": "#2a3f5f"
            },
            "marker": {
             "line": {
              "color": "#E5ECF6",
              "width": 0.5
             },
             "pattern": {
              "fillmode": "overlay",
              "size": 10,
              "solidity": 0.2
             }
            },
            "type": "bar"
           }
          ],
          "barpolar": [
           {
            "marker": {
             "line": {
              "color": "#E5ECF6",
              "width": 0.5
             },
             "pattern": {
              "fillmode": "overlay",
              "size": 10,
              "solidity": 0.2
             }
            },
            "type": "barpolar"
           }
          ],
          "carpet": [
           {
            "aaxis": {
             "endlinecolor": "#2a3f5f",
             "gridcolor": "white",
             "linecolor": "white",
             "minorgridcolor": "white",
             "startlinecolor": "#2a3f5f"
            },
            "baxis": {
             "endlinecolor": "#2a3f5f",
             "gridcolor": "white",
             "linecolor": "white",
             "minorgridcolor": "white",
             "startlinecolor": "#2a3f5f"
            },
            "type": "carpet"
           }
          ],
          "choropleth": [
           {
            "colorbar": {
             "outlinewidth": 0,
             "ticks": ""
            },
            "type": "choropleth"
           }
          ],
          "contour": [
           {
            "colorbar": {
             "outlinewidth": 0,
             "ticks": ""
            },
            "colorscale": [
             [
              0,
              "#0d0887"
             ],
             [
              0.1111111111111111,
              "#46039f"
             ],
             [
              0.2222222222222222,
              "#7201a8"
             ],
             [
              0.3333333333333333,
              "#9c179e"
             ],
             [
              0.4444444444444444,
              "#bd3786"
             ],
             [
              0.5555555555555556,
              "#d8576b"
             ],
             [
              0.6666666666666666,
              "#ed7953"
             ],
             [
              0.7777777777777778,
              "#fb9f3a"
             ],
             [
              0.8888888888888888,
              "#fdca26"
             ],
             [
              1,
              "#f0f921"
             ]
            ],
            "type": "contour"
           }
          ],
          "contourcarpet": [
           {
            "colorbar": {
             "outlinewidth": 0,
             "ticks": ""
            },
            "type": "contourcarpet"
           }
          ],
          "heatmap": [
           {
            "colorbar": {
             "outlinewidth": 0,
             "ticks": ""
            },
            "colorscale": [
             [
              0,
              "#0d0887"
             ],
             [
              0.1111111111111111,
              "#46039f"
             ],
             [
              0.2222222222222222,
              "#7201a8"
             ],
             [
              0.3333333333333333,
              "#9c179e"
             ],
             [
              0.4444444444444444,
              "#bd3786"
             ],
             [
              0.5555555555555556,
              "#d8576b"
             ],
             [
              0.6666666666666666,
              "#ed7953"
             ],
             [
              0.7777777777777778,
              "#fb9f3a"
             ],
             [
              0.8888888888888888,
              "#fdca26"
             ],
             [
              1,
              "#f0f921"
             ]
            ],
            "type": "heatmap"
           }
          ],
          "histogram": [
           {
            "marker": {
             "pattern": {
              "fillmode": "overlay",
              "size": 10,
              "solidity": 0.2
             }
            },
            "type": "histogram"
           }
          ],
          "histogram2d": [
           {
            "colorbar": {
             "outlinewidth": 0,
             "ticks": ""
            },
            "colorscale": [
             [
              0,
              "#0d0887"
             ],
             [
              0.1111111111111111,
              "#46039f"
             ],
             [
              0.2222222222222222,
              "#7201a8"
             ],
             [
              0.3333333333333333,
              "#9c179e"
             ],
             [
              0.4444444444444444,
              "#bd3786"
             ],
             [
              0.5555555555555556,
              "#d8576b"
             ],
             [
              0.6666666666666666,
              "#ed7953"
             ],
             [
              0.7777777777777778,
              "#fb9f3a"
             ],
             [
              0.8888888888888888,
              "#fdca26"
             ],
             [
              1,
              "#f0f921"
             ]
            ],
            "type": "histogram2d"
           }
          ],
          "histogram2dcontour": [
           {
            "colorbar": {
             "outlinewidth": 0,
             "ticks": ""
            },
            "colorscale": [
             [
              0,
              "#0d0887"
             ],
             [
              0.1111111111111111,
              "#46039f"
             ],
             [
              0.2222222222222222,
              "#7201a8"
             ],
             [
              0.3333333333333333,
              "#9c179e"
             ],
             [
              0.4444444444444444,
              "#bd3786"
             ],
             [
              0.5555555555555556,
              "#d8576b"
             ],
             [
              0.6666666666666666,
              "#ed7953"
             ],
             [
              0.7777777777777778,
              "#fb9f3a"
             ],
             [
              0.8888888888888888,
              "#fdca26"
             ],
             [
              1,
              "#f0f921"
             ]
            ],
            "type": "histogram2dcontour"
           }
          ],
          "mesh3d": [
           {
            "colorbar": {
             "outlinewidth": 0,
             "ticks": ""
            },
            "type": "mesh3d"
           }
          ],
          "parcoords": [
           {
            "line": {
             "colorbar": {
              "outlinewidth": 0,
              "ticks": ""
             }
            },
            "type": "parcoords"
           }
          ],
          "pie": [
           {
            "automargin": true,
            "type": "pie"
           }
          ],
          "scatter": [
           {
            "fillpattern": {
             "fillmode": "overlay",
             "size": 10,
             "solidity": 0.2
            },
            "type": "scatter"
           }
          ],
          "scatter3d": [
           {
            "line": {
             "colorbar": {
              "outlinewidth": 0,
              "ticks": ""
             }
            },
            "marker": {
             "colorbar": {
              "outlinewidth": 0,
              "ticks": ""
             }
            },
            "type": "scatter3d"
           }
          ],
          "scattercarpet": [
           {
            "marker": {
             "colorbar": {
              "outlinewidth": 0,
              "ticks": ""
             }
            },
            "type": "scattercarpet"
           }
          ],
          "scattergeo": [
           {
            "marker": {
             "colorbar": {
              "outlinewidth": 0,
              "ticks": ""
             }
            },
            "type": "scattergeo"
           }
          ],
          "scattergl": [
           {
            "marker": {
             "colorbar": {
              "outlinewidth": 0,
              "ticks": ""
             }
            },
            "type": "scattergl"
           }
          ],
          "scattermap": [
           {
            "marker": {
             "colorbar": {
              "outlinewidth": 0,
              "ticks": ""
             }
            },
            "type": "scattermap"
           }
          ],
          "scattermapbox": [
           {
            "marker": {
             "colorbar": {
              "outlinewidth": 0,
              "ticks": ""
             }
            },
            "type": "scattermapbox"
           }
          ],
          "scatterpolar": [
           {
            "marker": {
             "colorbar": {
              "outlinewidth": 0,
              "ticks": ""
             }
            },
            "type": "scatterpolar"
           }
          ],
          "scatterpolargl": [
           {
            "marker": {
             "colorbar": {
              "outlinewidth": 0,
              "ticks": ""
             }
            },
            "type": "scatterpolargl"
           }
          ],
          "scatterternary": [
           {
            "marker": {
             "colorbar": {
              "outlinewidth": 0,
              "ticks": ""
             }
            },
            "type": "scatterternary"
           }
          ],
          "surface": [
           {
            "colorbar": {
             "outlinewidth": 0,
             "ticks": ""
            },
            "colorscale": [
             [
              0,
              "#0d0887"
             ],
             [
              0.1111111111111111,
              "#46039f"
             ],
             [
              0.2222222222222222,
              "#7201a8"
             ],
             [
              0.3333333333333333,
              "#9c179e"
             ],
             [
              0.4444444444444444,
              "#bd3786"
             ],
             [
              0.5555555555555556,
              "#d8576b"
             ],
             [
              0.6666666666666666,
              "#ed7953"
             ],
             [
              0.7777777777777778,
              "#fb9f3a"
             ],
             [
              0.8888888888888888,
              "#fdca26"
             ],
             [
              1,
              "#f0f921"
             ]
            ],
            "type": "surface"
           }
          ],
          "table": [
           {
            "cells": {
             "fill": {
              "color": "#EBF0F8"
             },
             "line": {
              "color": "white"
             }
            },
            "header": {
             "fill": {
              "color": "#C8D4E3"
             },
             "line": {
              "color": "white"
             }
            },
            "type": "table"
           }
          ]
         },
         "layout": {
          "annotationdefaults": {
           "arrowcolor": "#2a3f5f",
           "arrowhead": 0,
           "arrowwidth": 1
          },
          "autotypenumbers": "strict",
          "coloraxis": {
           "colorbar": {
            "outlinewidth": 0,
            "ticks": ""
           }
          },
          "colorscale": {
           "diverging": [
            [
             0,
             "#8e0152"
            ],
            [
             0.1,
             "#c51b7d"
            ],
            [
             0.2,
             "#de77ae"
            ],
            [
             0.3,
             "#f1b6da"
            ],
            [
             0.4,
             "#fde0ef"
            ],
            [
             0.5,
             "#f7f7f7"
            ],
            [
             0.6,
             "#e6f5d0"
            ],
            [
             0.7,
             "#b8e186"
            ],
            [
             0.8,
             "#7fbc41"
            ],
            [
             0.9,
             "#4d9221"
            ],
            [
             1,
             "#276419"
            ]
           ],
           "sequential": [
            [
             0,
             "#0d0887"
            ],
            [
             0.1111111111111111,
             "#46039f"
            ],
            [
             0.2222222222222222,
             "#7201a8"
            ],
            [
             0.3333333333333333,
             "#9c179e"
            ],
            [
             0.4444444444444444,
             "#bd3786"
            ],
            [
             0.5555555555555556,
             "#d8576b"
            ],
            [
             0.6666666666666666,
             "#ed7953"
            ],
            [
             0.7777777777777778,
             "#fb9f3a"
            ],
            [
             0.8888888888888888,
             "#fdca26"
            ],
            [
             1,
             "#f0f921"
            ]
           ],
           "sequentialminus": [
            [
             0,
             "#0d0887"
            ],
            [
             0.1111111111111111,
             "#46039f"
            ],
            [
             0.2222222222222222,
             "#7201a8"
            ],
            [
             0.3333333333333333,
             "#9c179e"
            ],
            [
             0.4444444444444444,
             "#bd3786"
            ],
            [
             0.5555555555555556,
             "#d8576b"
            ],
            [
             0.6666666666666666,
             "#ed7953"
            ],
            [
             0.7777777777777778,
             "#fb9f3a"
            ],
            [
             0.8888888888888888,
             "#fdca26"
            ],
            [
             1,
             "#f0f921"
            ]
           ]
          },
          "colorway": [
           "#636efa",
           "#EF553B",
           "#00cc96",
           "#ab63fa",
           "#FFA15A",
           "#19d3f3",
           "#FF6692",
           "#B6E880",
           "#FF97FF",
           "#FECB52"
          ],
          "font": {
           "color": "#2a3f5f"
          },
          "geo": {
           "bgcolor": "white",
           "lakecolor": "white",
           "landcolor": "#E5ECF6",
           "showlakes": true,
           "showland": true,
           "subunitcolor": "white"
          },
          "hoverlabel": {
           "align": "left"
          },
          "hovermode": "closest",
          "mapbox": {
           "style": "light"
          },
          "paper_bgcolor": "white",
          "plot_bgcolor": "#E5ECF6",
          "polar": {
           "angularaxis": {
            "gridcolor": "white",
            "linecolor": "white",
            "ticks": ""
           },
           "bgcolor": "#E5ECF6",
           "radialaxis": {
            "gridcolor": "white",
            "linecolor": "white",
            "ticks": ""
           }
          },
          "scene": {
           "xaxis": {
            "backgroundcolor": "#E5ECF6",
            "gridcolor": "white",
            "gridwidth": 2,
            "linecolor": "white",
            "showbackground": true,
            "ticks": "",
            "zerolinecolor": "white"
           },
           "yaxis": {
            "backgroundcolor": "#E5ECF6",
            "gridcolor": "white",
            "gridwidth": 2,
            "linecolor": "white",
            "showbackground": true,
            "ticks": "",
            "zerolinecolor": "white"
           },
           "zaxis": {
            "backgroundcolor": "#E5ECF6",
            "gridcolor": "white",
            "gridwidth": 2,
            "linecolor": "white",
            "showbackground": true,
            "ticks": "",
            "zerolinecolor": "white"
           }
          },
          "shapedefaults": {
           "line": {
            "color": "#2a3f5f"
           }
          },
          "ternary": {
           "aaxis": {
            "gridcolor": "white",
            "linecolor": "white",
            "ticks": ""
           },
           "baxis": {
            "gridcolor": "white",
            "linecolor": "white",
            "ticks": ""
           },
           "bgcolor": "#E5ECF6",
           "caxis": {
            "gridcolor": "white",
            "linecolor": "white",
            "ticks": ""
           }
          },
          "title": {
           "x": 0.05
          },
          "xaxis": {
           "automargin": true,
           "gridcolor": "white",
           "linecolor": "white",
           "ticks": "",
           "title": {
            "standoff": 15
           },
           "zerolinecolor": "white",
           "zerolinewidth": 2
          },
          "yaxis": {
           "automargin": true,
           "gridcolor": "white",
           "linecolor": "white",
           "ticks": "",
           "title": {
            "standoff": 15
           },
           "zerolinecolor": "white",
           "zerolinewidth": 2
          }
         }
        },
        "xaxis": {
         "anchor": "y",
         "domain": [
          0,
          0.45
         ]
        },
        "xaxis2": {
         "anchor": "y2",
         "domain": [
          0.55,
          1
         ]
        },
        "xaxis3": {
         "anchor": "y3",
         "domain": [
          0,
          0.45
         ]
        },
        "xaxis4": {
         "anchor": "y4",
         "domain": [
          0.55,
          1
         ]
        },
        "xaxis5": {
         "anchor": "y5",
         "domain": [
          0,
          0.45
         ]
        },
        "xaxis6": {
         "anchor": "y6",
         "domain": [
          0.55,
          1
         ]
        },
        "yaxis": {
         "anchor": "x",
         "domain": [
          0.7777777777777778,
          1
         ]
        },
        "yaxis2": {
         "anchor": "x2",
         "domain": [
          0.7777777777777778,
          1
         ]
        },
        "yaxis3": {
         "anchor": "x3",
         "domain": [
          0.3888888888888889,
          0.6111111111111112
         ]
        },
        "yaxis4": {
         "anchor": "x4",
         "domain": [
          0.3888888888888889,
          0.6111111111111112
         ]
        },
        "yaxis5": {
         "anchor": "x5",
         "domain": [
          0,
          0.22222222222222224
         ]
        },
        "yaxis6": {
         "anchor": "x6",
         "domain": [
          0,
          0.22222222222222224
         ]
        }
       }
      }
     },
     "metadata": {},
     "output_type": "display_data"
    }
   ],
   "source": [
    "from plotly.subplots import make_subplots\n",
    "import plotly.graph_objects as go\n",
    "\n",
    "# Define subplot grid: 2 columns, calculate required rows\n",
    "n_cols = 2\n",
    "n_rows = int(np.ceil(len(numeric_cols) / n_cols))\n",
    "\n",
    "# Define your **own set of colors**\n",
    "colors = ['red', 'orange', 'green', 'cyan', 'magenta']  # Add more if needed\n",
    "\n",
    "# Create subplot figure\n",
    "fig = make_subplots(rows=n_rows, cols=n_cols, subplot_titles=numeric_cols)\n",
    "\n",
    "# Plot each numeric column as a separate boxplot\n",
    "for i, (col, color) in enumerate(zip(numeric_cols, colors)):\n",
    "    row = i // n_cols + 1\n",
    "    col_pos = i % n_cols + 1\n",
    "    fig.add_trace(\n",
    "        go.Box(x=data[col], name=col, marker_color=color, boxpoints='outliers'),\n",
    "        row=row, col=col_pos\n",
    "    )\n",
    "\n",
    "# Customize layout for black background and white text\n",
    "fig.update_layout(\n",
    "    height=300 * n_rows,\n",
    "    plot_bgcolor='black',\n",
    "    paper_bgcolor='black',\n",
    "    font=dict(color='white'),\n",
    "    showlegend=False\n",
    ")\n",
    "\n",
    "# Show the interactive plot\n",
    "fig.show()"
   ]
  },
  {
   "cell_type": "markdown",
   "id": "e8753dca",
   "metadata": {},
   "source": [
    "## Machine Learning\n"
   ]
  },
  {
   "cell_type": "code",
   "execution_count": 40,
   "id": "caca228c",
   "metadata": {},
   "outputs": [
    {
     "data": {
      "text/plain": [
       "num\n",
       "0    220\n",
       "1    135\n",
       "2     27\n",
       "Name: count, dtype: int64"
      ]
     },
     "execution_count": 40,
     "metadata": {},
     "output_type": "execute_result"
    }
   ],
   "source": [
    "data['num'].value_counts()"
   ]
  },
  {
   "cell_type": "markdown",
   "id": "4480e74f",
   "metadata": {},
   "source": [
    "The target column is num which is the predicted attribute. We will use this column to predict the heart disease.\n",
    "The unique values in this column are: [0, 1, 2, 3, 4], which state that there are 5 types of heart disease.\n",
    "\n",
    "- **0** = no heart disease'\n",
    "- **1** = mild heart disease\n",
    "- **2** = moderate heart disease\n",
    "- **3** = severe heart disease\n",
    "- **4** = critical heart disease\n"
   ]
  },
  {
   "cell_type": "code",
   "execution_count": 41,
   "id": "a2242fd3",
   "metadata": {},
   "outputs": [],
   "source": [
    "# split the data into x and y   \n",
    "X = data.drop(['num'], axis=1)\n",
    "y = data['num']\n",
    "\n",
    "# Encode x data using sepate LabelEncoder for all categorical columns and save it for inverse transformation later\n",
    "label_encoders = {}\n",
    "\n",
    "# Encode all categorical columns in X\n",
    "for col in X.columns:\n",
    "    if X[col].dtype == 'object' or X[col].dtype.name == 'category':\n",
    "        le = LabelEncoder()\n",
    "        X[col] = le.fit_transform(X[col].astype(str))\n",
    "        label_encoders[col] = le\n",
    "    else:\n",
    "        pass\n",
    "\n",
    "# split the data into train and test sets\n",
    "X_train, X_test, y_train, y_test = train_test_split(X, y, test_size=0.3, random_state=42)"
   ]
  },
  {
   "cell_type": "markdown",
   "id": "be10a890",
   "metadata": {},
   "source": [
    "Enlist all odels that you will use to predict the heart disease. These models should be classifiers for multi-class classification.\n",
    "\n",
    "1. logistic Regression\n",
    "2. KNN\n",
    "3. NB\n",
    "4. SVM\n",
    "5. Decision Tree\n",
    "6. Random Forest\n",
    "7. XGBOOST\n",
    "8. GradientBoost\n",
    "9. AdaBoost\n"
   ]
  },
  {
   "cell_type": "code",
   "execution_count": 42,
   "id": "f6c464bc",
   "metadata": {},
   "outputs": [
    {
     "name": "stdout",
     "output_type": "stream",
     "text": [
      "\n",
      "CLASSIFICATION RESULTS:\n",
      "\n",
      "🔸 Random Forest: Accuracy = 0.8609\n",
      "Classification Report:\n",
      "              precision    recall  f1-score   support\n",
      "\n",
      "           0       0.92      0.92      0.92        75\n",
      "           1       0.77      0.79      0.78        34\n",
      "           2       0.60      0.50      0.55         6\n",
      "\n",
      "    accuracy                           0.86       115\n",
      "   macro avg       0.76      0.74      0.75       115\n",
      "weighted avg       0.86      0.86      0.86       115\n",
      "\n",
      "------------------------------------------------------------\n",
      "🔸 Logistic Regression: Accuracy = 0.8087\n",
      "Classification Report:\n",
      "              precision    recall  f1-score   support\n",
      "\n",
      "           0       0.88      0.89      0.89        75\n",
      "           1       0.76      0.74      0.75        34\n",
      "           2       0.17      0.17      0.17         6\n",
      "\n",
      "    accuracy                           0.81       115\n",
      "   macro avg       0.60      0.60      0.60       115\n",
      "weighted avg       0.81      0.81      0.81       115\n",
      "\n",
      "------------------------------------------------------------\n",
      "🔸 Decision Tree: Accuracy = 0.8609\n",
      "Classification Report:\n",
      "              precision    recall  f1-score   support\n",
      "\n",
      "           0       0.93      0.92      0.93        75\n",
      "           1       0.89      0.71      0.79        34\n",
      "           2       0.43      1.00      0.60         6\n",
      "\n",
      "    accuracy                           0.86       115\n",
      "   macro avg       0.75      0.88      0.77       115\n",
      "weighted avg       0.89      0.86      0.87       115\n",
      "\n",
      "------------------------------------------------------------\n",
      "🔸 Support Vector Machine: Accuracy = 0.8435\n",
      "Classification Report:\n",
      "              precision    recall  f1-score   support\n",
      "\n",
      "           0       1.00      0.84      0.91        75\n",
      "           1       0.65      1.00      0.79        34\n",
      "           2       0.00      0.00      0.00         6\n",
      "\n",
      "    accuracy                           0.84       115\n",
      "   macro avg       0.55      0.61      0.57       115\n",
      "weighted avg       0.85      0.84      0.83       115\n",
      "\n",
      "------------------------------------------------------------\n",
      "🔸 K-Nearest Neighbors: Accuracy = 0.8435\n",
      "Classification Report:\n",
      "              precision    recall  f1-score   support\n",
      "\n",
      "           0       0.94      0.91      0.93        75\n",
      "           1       0.72      0.85      0.78        34\n",
      "           2       0.00      0.00      0.00         6\n",
      "\n",
      "    accuracy                           0.84       115\n",
      "   macro avg       0.56      0.59      0.57       115\n",
      "weighted avg       0.83      0.84      0.84       115\n",
      "\n",
      "------------------------------------------------------------\n",
      "🔸 Naive Bayes: Accuracy = 0.7130\n",
      "Classification Report:\n",
      "              precision    recall  f1-score   support\n",
      "\n",
      "           0       0.89      0.83      0.86        75\n",
      "           1       0.70      0.41      0.52        34\n",
      "           2       0.24      1.00      0.39         6\n",
      "\n",
      "    accuracy                           0.71       115\n",
      "   macro avg       0.61      0.75      0.59       115\n",
      "weighted avg       0.80      0.71      0.73       115\n",
      "\n",
      "------------------------------------------------------------\n",
      "🔸 Gradient Boosting: Accuracy = 0.8522\n",
      "Classification Report:\n",
      "              precision    recall  f1-score   support\n",
      "\n",
      "           0       0.91      0.89      0.90        75\n",
      "           1       0.82      0.79      0.81        34\n",
      "           2       0.50      0.67      0.57         6\n",
      "\n",
      "    accuracy                           0.85       115\n",
      "   macro avg       0.74      0.78      0.76       115\n",
      "weighted avg       0.86      0.85      0.85       115\n",
      "\n",
      "------------------------------------------------------------\n",
      "🔸 AdaBoost: Accuracy = 0.8696\n",
      "Classification Report:\n",
      "              precision    recall  f1-score   support\n",
      "\n",
      "           0       0.99      0.89      0.94        75\n",
      "           1       0.76      0.91      0.83        34\n",
      "           2       0.33      0.33      0.33         6\n",
      "\n",
      "    accuracy                           0.87       115\n",
      "   macro avg       0.69      0.71      0.70       115\n",
      "weighted avg       0.88      0.87      0.87       115\n",
      "\n",
      "------------------------------------------------------------\n",
      "🔸 XGBoost: Accuracy = 0.8696\n",
      "Classification Report:\n",
      "              precision    recall  f1-score   support\n",
      "\n",
      "           0       0.93      0.93      0.93        75\n",
      "           1       0.82      0.82      0.82        34\n",
      "           2       0.33      0.33      0.33         6\n",
      "\n",
      "    accuracy                           0.87       115\n",
      "   macro avg       0.70      0.70      0.70       115\n",
      "weighted avg       0.87      0.87      0.87       115\n",
      "\n",
      "------------------------------------------------------------\n"
     ]
    }
   ],
   "source": [
    "# define the model \n",
    "def evaluate_model(X_train, X_test, y_train, y_test):\n",
    "    model = [\n",
    "        ('Random Forest', RandomForestClassifier(random_state=42)),\n",
    "        ('Logistic Regression', LogisticRegression(max_iter=1000, random_state=42)),\n",
    "        ('Decision Tree', DecisionTreeClassifier(random_state=42)),\n",
    "        ('Support Vector Machine', SVC(random_state=42)),\n",
    "        ('K-Nearest Neighbors', KNeighborsClassifier()),\n",
    "        ('Naive Bayes', GaussianNB()),\n",
    "        ('Gradient Boosting', GradientBoostingClassifier(random_state=42)),\n",
    "        ('AdaBoost', AdaBoostClassifier(random_state=42)),\n",
    "        ('XGBoost', XGBClassifier(use_label_encoder=False, eval_metric='logloss', random_state=42))\n",
    "    ]\n",
    "\n",
    "    print(\"\\nCLASSIFICATION RESULTS:\\n\")\n",
    "\n",
    "    for name, model in model:\n",
    "        model.fit(X_train, y_train)\n",
    "        preds = model.predict(X_test)\n",
    "        acc = accuracy_score(y_test, preds)\n",
    "\n",
    "        print(f\"🔸 {name}: Accuracy = {acc:.4f}\")\n",
    "        print(\"Classification Report:\")\n",
    "        print(classification_report(y_test, preds))\n",
    "        print('-' * 60)\n",
    "\n",
    "# Usage (as before):\n",
    "evaluate_model(X_train, X_test, y_train, y_test)\n"
   ]
  },
  {
   "cell_type": "markdown",
   "id": "78fc0f08",
   "metadata": {},
   "source": [
    "## Increase the accuracy\n"
   ]
  },
  {
   "cell_type": "markdown",
   "id": "d2d8b600",
   "metadata": {},
   "source": [
    "#### Using the feature selection\n"
   ]
  },
  {
   "cell_type": "code",
   "execution_count": 43,
   "id": "40e65b4e",
   "metadata": {},
   "outputs": [
    {
     "data": {
      "text/html": [
       "<div>\n",
       "<style scoped>\n",
       "    .dataframe tbody tr th:only-of-type {\n",
       "        vertical-align: middle;\n",
       "    }\n",
       "\n",
       "    .dataframe tbody tr th {\n",
       "        vertical-align: top;\n",
       "    }\n",
       "\n",
       "    .dataframe thead th {\n",
       "        text-align: right;\n",
       "    }\n",
       "</style>\n",
       "<table border=\"1\" class=\"dataframe\">\n",
       "  <thead>\n",
       "    <tr style=\"text-align: right;\">\n",
       "      <th></th>\n",
       "      <th>id</th>\n",
       "      <th>age</th>\n",
       "      <th>sex</th>\n",
       "      <th>dataset</th>\n",
       "      <th>cp</th>\n",
       "      <th>trestbps</th>\n",
       "      <th>chol</th>\n",
       "      <th>fbs</th>\n",
       "      <th>restecg</th>\n",
       "      <th>thalch</th>\n",
       "      <th>exang</th>\n",
       "      <th>oldpeak</th>\n",
       "      <th>slope</th>\n",
       "      <th>ca</th>\n",
       "      <th>thal</th>\n",
       "      <th>num</th>\n",
       "    </tr>\n",
       "  </thead>\n",
       "  <tbody>\n",
       "    <tr>\n",
       "      <th>166</th>\n",
       "      <td>167</td>\n",
       "      <td>52</td>\n",
       "      <td>Male</td>\n",
       "      <td>Cleveland</td>\n",
       "      <td>non-anginal</td>\n",
       "      <td>138.0</td>\n",
       "      <td>223.0</td>\n",
       "      <td>False</td>\n",
       "      <td>normal</td>\n",
       "      <td>169.0</td>\n",
       "      <td>False</td>\n",
       "      <td>0.0</td>\n",
       "      <td>upsloping</td>\n",
       "      <td>0.676375</td>\n",
       "      <td>normal</td>\n",
       "      <td>0</td>\n",
       "    </tr>\n",
       "    <tr>\n",
       "      <th>192</th>\n",
       "      <td>193</td>\n",
       "      <td>43</td>\n",
       "      <td>Male</td>\n",
       "      <td>Cleveland</td>\n",
       "      <td>asymptomatic</td>\n",
       "      <td>132.0</td>\n",
       "      <td>247.0</td>\n",
       "      <td>True</td>\n",
       "      <td>lv hypertrophy</td>\n",
       "      <td>143.0</td>\n",
       "      <td>True</td>\n",
       "      <td>0.1</td>\n",
       "      <td>flat</td>\n",
       "      <td>0.676375</td>\n",
       "      <td>reversable defect</td>\n",
       "      <td>1</td>\n",
       "    </tr>\n",
       "    <tr>\n",
       "      <th>287</th>\n",
       "      <td>288</td>\n",
       "      <td>58</td>\n",
       "      <td>Male</td>\n",
       "      <td>Cleveland</td>\n",
       "      <td>atypical angina</td>\n",
       "      <td>125.0</td>\n",
       "      <td>220.0</td>\n",
       "      <td>False</td>\n",
       "      <td>normal</td>\n",
       "      <td>144.0</td>\n",
       "      <td>False</td>\n",
       "      <td>0.4</td>\n",
       "      <td>flat</td>\n",
       "      <td>0.676375</td>\n",
       "      <td>reversable defect</td>\n",
       "      <td>0</td>\n",
       "    </tr>\n",
       "    <tr>\n",
       "      <th>302</th>\n",
       "      <td>303</td>\n",
       "      <td>38</td>\n",
       "      <td>Male</td>\n",
       "      <td>Cleveland</td>\n",
       "      <td>non-anginal</td>\n",
       "      <td>138.0</td>\n",
       "      <td>175.0</td>\n",
       "      <td>False</td>\n",
       "      <td>normal</td>\n",
       "      <td>173.0</td>\n",
       "      <td>False</td>\n",
       "      <td>0.0</td>\n",
       "      <td>upsloping</td>\n",
       "      <td>0.676375</td>\n",
       "      <td>normal</td>\n",
       "      <td>0</td>\n",
       "    </tr>\n",
       "    <tr>\n",
       "      <th>303</th>\n",
       "      <td>304</td>\n",
       "      <td>28</td>\n",
       "      <td>Male</td>\n",
       "      <td>Cleveland</td>\n",
       "      <td>atypical angina</td>\n",
       "      <td>130.0</td>\n",
       "      <td>132.0</td>\n",
       "      <td>False</td>\n",
       "      <td>lv hypertrophy</td>\n",
       "      <td>185.0</td>\n",
       "      <td>False</td>\n",
       "      <td>0.0</td>\n",
       "      <td>nan</td>\n",
       "      <td>0.676375</td>\n",
       "      <td>nan</td>\n",
       "      <td>0</td>\n",
       "    </tr>\n",
       "  </tbody>\n",
       "</table>\n",
       "</div>"
      ],
      "text/plain": [
       "      id  age   sex    dataset               cp  trestbps   chol    fbs  \\\n",
       "166  167   52  Male  Cleveland      non-anginal     138.0  223.0  False   \n",
       "192  193   43  Male  Cleveland     asymptomatic     132.0  247.0   True   \n",
       "287  288   58  Male  Cleveland  atypical angina     125.0  220.0  False   \n",
       "302  303   38  Male  Cleveland      non-anginal     138.0  175.0  False   \n",
       "303  304   28  Male  Cleveland  atypical angina     130.0  132.0  False   \n",
       "\n",
       "            restecg  thalch  exang  oldpeak      slope        ca  \\\n",
       "166          normal   169.0  False      0.0  upsloping  0.676375   \n",
       "192  lv hypertrophy   143.0   True      0.1       flat  0.676375   \n",
       "287          normal   144.0  False      0.4       flat  0.676375   \n",
       "302          normal   173.0  False      0.0  upsloping  0.676375   \n",
       "303  lv hypertrophy   185.0  False      0.0        nan  0.676375   \n",
       "\n",
       "                  thal  num  \n",
       "166             normal    0  \n",
       "192  reversable defect    1  \n",
       "287  reversable defect    0  \n",
       "302             normal    0  \n",
       "303                nan    0  "
      ]
     },
     "execution_count": 43,
     "metadata": {},
     "output_type": "execute_result"
    }
   ],
   "source": [
    "data.head()"
   ]
  },
  {
   "cell_type": "code",
   "execution_count": 44,
   "id": "d28591fd",
   "metadata": {},
   "outputs": [
    {
     "name": "stdout",
     "output_type": "stream",
     "text": [
      "<class 'pandas.core.frame.DataFrame'>\n",
      "Index: 382 entries, 166 to 919\n",
      "Data columns (total 16 columns):\n",
      " #   Column    Non-Null Count  Dtype  \n",
      "---  ------    --------------  -----  \n",
      " 0   id        382 non-null    int64  \n",
      " 1   age       382 non-null    int64  \n",
      " 2   sex       382 non-null    object \n",
      " 3   dataset   382 non-null    object \n",
      " 4   cp        382 non-null    object \n",
      " 5   trestbps  382 non-null    float64\n",
      " 6   chol      382 non-null    float64\n",
      " 7   fbs       382 non-null    object \n",
      " 8   restecg   382 non-null    object \n",
      " 9   thalch    382 non-null    float64\n",
      " 10  exang     382 non-null    object \n",
      " 11  oldpeak   382 non-null    float64\n",
      " 12  slope     382 non-null    object \n",
      " 13  ca        382 non-null    float64\n",
      " 14  thal      382 non-null    object \n",
      " 15  num       382 non-null    int64  \n",
      "dtypes: float64(5), int64(3), object(8)\n",
      "memory usage: 50.7+ KB\n"
     ]
    }
   ],
   "source": [
    "data.info()"
   ]
  },
  {
   "cell_type": "code",
   "execution_count": 45,
   "id": "fd0403db",
   "metadata": {},
   "outputs": [],
   "source": [
    "# Drop the some columns\n",
    "X_n = data.drop(['num', 'id', 'dataset'], axis=1)\n",
    "y_n = data['num'] "
   ]
  },
  {
   "cell_type": "code",
   "execution_count": 46,
   "id": "2dfe8513",
   "metadata": {},
   "outputs": [],
   "source": [
    "# sepate LabelEncoder for all categorical and object columns and save it for inverse transformation later\n",
    "label_encoders = {}\n",
    "# Encode all categorical columns in X\n",
    "for col in X_n.columns:\n",
    "    if X_n[col].dtype == 'object' or X_n[col].dtype.name == 'category':\n",
    "        le = LabelEncoder()\n",
    "        X_n[col] = le.fit_transform(X_n[col].astype(str))\n",
    "        label_encoders[col] = le\n",
    "    else:\n",
    "        pass"
   ]
  },
  {
   "cell_type": "code",
   "execution_count": 47,
   "id": "d0b87c43",
   "metadata": {},
   "outputs": [],
   "source": [
    "# split the data into train and test sets\n",
    "X_train_n, X_test_n, y_train_n, y_test_n = train_test_split(X_n, y_n, test_size=0.3, random_state=42)"
   ]
  },
  {
   "cell_type": "code",
   "execution_count": 48,
   "id": "5ba05e69",
   "metadata": {},
   "outputs": [],
   "source": [
    "# scale the data using StandardScaler\n",
    "scaler = StandardScaler()\n",
    "# fit the scaler on the X_train data and X_test data\n",
    "X_train_scaled = scaler.fit_transform(X_train_n)\n",
    "X_test_scaled = scaler.transform(X_test_n)"
   ]
  },
  {
   "cell_type": "markdown",
   "id": "e17d879b",
   "metadata": {},
   "source": [
    "#### Using the hyper parameter tunning\n"
   ]
  },
  {
   "cell_type": "code",
   "execution_count": 49,
   "id": "39e2fa1b",
   "metadata": {},
   "outputs": [
    {
     "name": "stdout",
     "output_type": "stream",
     "text": [
      "\n",
      "CLASSIFICATION RESULTS:\n",
      "\n",
      "🔸 Random Forest: Accuracy = 0.8696\n",
      "Best Parameters: {'max_depth': None, 'n_estimators': 200}\n",
      "              precision    recall  f1-score   support\n",
      "\n",
      "           0       0.95      0.93      0.94        75\n",
      "           1       0.76      0.82      0.79        34\n",
      "           2       0.50      0.33      0.40         6\n",
      "\n",
      "    accuracy                           0.87       115\n",
      "   macro avg       0.73      0.70      0.71       115\n",
      "weighted avg       0.87      0.87      0.87       115\n",
      "\n",
      "------------------------------------------------------------\n",
      "🔸 Logistic Regression: Accuracy = 0.8087\n",
      "Best Parameters: {'C': 1}\n",
      "              precision    recall  f1-score   support\n",
      "\n",
      "           0       0.88      0.89      0.89        75\n",
      "           1       0.76      0.74      0.75        34\n",
      "           2       0.17      0.17      0.17         6\n",
      "\n",
      "    accuracy                           0.81       115\n",
      "   macro avg       0.60      0.60      0.60       115\n",
      "weighted avg       0.81      0.81      0.81       115\n",
      "\n",
      "------------------------------------------------------------\n",
      "🔸 Decision Tree: Accuracy = 0.8696\n",
      "Best Parameters: {'criterion': 'entropy', 'max_depth': 5}\n",
      "              precision    recall  f1-score   support\n",
      "\n",
      "           0       0.92      0.93      0.93        75\n",
      "           1       0.79      0.79      0.79        34\n",
      "           2       0.60      0.50      0.55         6\n",
      "\n",
      "    accuracy                           0.87       115\n",
      "   macro avg       0.77      0.74      0.76       115\n",
      "weighted avg       0.87      0.87      0.87       115\n",
      "\n",
      "------------------------------------------------------------\n",
      "🔸 Support Vector Machine: Accuracy = 0.8696\n",
      "Best Parameters: {'C': 10, 'kernel': 'rbf'}\n",
      "              precision    recall  f1-score   support\n",
      "\n",
      "           0       0.91      0.93      0.92        75\n",
      "           1       0.79      0.88      0.83        34\n",
      "           2       0.00      0.00      0.00         6\n",
      "\n",
      "    accuracy                           0.87       115\n",
      "   macro avg       0.57      0.61      0.58       115\n",
      "weighted avg       0.83      0.87      0.85       115\n",
      "\n",
      "------------------------------------------------------------\n",
      "🔸 K-Nearest Neighbors: Accuracy = 0.7913\n",
      "Best Parameters: {'n_neighbors': 3}\n",
      "              precision    recall  f1-score   support\n",
      "\n",
      "           0       0.87      0.88      0.87        75\n",
      "           1       0.80      0.71      0.75        34\n",
      "           2       0.11      0.17      0.13         6\n",
      "\n",
      "    accuracy                           0.79       115\n",
      "   macro avg       0.59      0.58      0.59       115\n",
      "weighted avg       0.81      0.79      0.80       115\n",
      "\n",
      "------------------------------------------------------------\n",
      "🔸 Naive Bayes: Accuracy = 0.7130\n",
      "Best Parameters: Default parameters\n",
      "              precision    recall  f1-score   support\n",
      "\n",
      "           0       0.89      0.83      0.86        75\n",
      "           1       0.70      0.41      0.52        34\n",
      "           2       0.24      1.00      0.39         6\n",
      "\n",
      "    accuracy                           0.71       115\n",
      "   macro avg       0.61      0.75      0.59       115\n",
      "weighted avg       0.80      0.71      0.73       115\n",
      "\n",
      "------------------------------------------------------------\n",
      "🔸 Gradient Boosting: Accuracy = 0.8696\n",
      "Best Parameters: {'learning_rate': 0.05, 'n_estimators': 200}\n",
      "              precision    recall  f1-score   support\n",
      "\n",
      "           0       0.93      0.89      0.91        75\n",
      "           1       0.77      0.88      0.82        34\n",
      "           2       0.75      0.50      0.60         6\n",
      "\n",
      "    accuracy                           0.87       115\n",
      "   macro avg       0.82      0.76      0.78       115\n",
      "weighted avg       0.87      0.87      0.87       115\n",
      "\n",
      "------------------------------------------------------------\n",
      "🔸 AdaBoost: Accuracy = 0.8696\n",
      "Best Parameters: {'n_estimators': 50}\n",
      "              precision    recall  f1-score   support\n",
      "\n",
      "           0       0.99      0.89      0.94        75\n",
      "           1       0.76      0.91      0.83        34\n",
      "           2       0.33      0.33      0.33         6\n",
      "\n",
      "    accuracy                           0.87       115\n",
      "   macro avg       0.69      0.71      0.70       115\n",
      "weighted avg       0.88      0.87      0.87       115\n",
      "\n",
      "------------------------------------------------------------\n",
      "🔸 XGBoost: Accuracy = 0.8522\n",
      "Best Parameters: {'learning_rate': 0.05, 'max_depth': 3, 'n_estimators': 100}\n",
      "              precision    recall  f1-score   support\n",
      "\n",
      "           0       0.96      0.93      0.95        75\n",
      "           1       0.81      0.76      0.79        34\n",
      "           2       0.20      0.33      0.25         6\n",
      "\n",
      "    accuracy                           0.85       115\n",
      "   macro avg       0.66      0.68      0.66       115\n",
      "weighted avg       0.88      0.85      0.86       115\n",
      "\n",
      "------------------------------------------------------------\n"
     ]
    }
   ],
   "source": [
    "def evaluate_models(X_train_n, X_test_n, y_train_n, y_test_n):\n",
    "    models = [\n",
    "        ('Random Forest', RandomForestClassifier(random_state=42), {\n",
    "            'n_estimators': [100, 200],\n",
    "            'max_depth': [None, 5, 10]\n",
    "        }),\n",
    "        ('Logistic Regression', LogisticRegression(max_iter=1000, random_state=42), {\n",
    "            'C': [0.1, 1, 10]\n",
    "        }),\n",
    "        ('Decision Tree', DecisionTreeClassifier(random_state=42), {\n",
    "            'max_depth': [3, 5, 10],\n",
    "            'criterion': ['gini', 'entropy']\n",
    "        }),\n",
    "        ('Support Vector Machine', SVC(random_state=42), {\n",
    "            'C': [0.1, 1, 10],\n",
    "            'kernel': ['rbf', 'linear']\n",
    "        }),\n",
    "        ('K-Nearest Neighbors', KNeighborsClassifier(), {\n",
    "            'n_neighbors': [3, 5, 7]\n",
    "        }),\n",
    "        ('Naive Bayes', GaussianNB(), {}),  # No hyperparameters for tuning\n",
    "        ('Gradient Boosting', GradientBoostingClassifier(random_state=42), {\n",
    "            'n_estimators': [100, 200],\n",
    "            'learning_rate': [0.05, 0.1]\n",
    "        }),\n",
    "        ('AdaBoost', AdaBoostClassifier(random_state=42), {\n",
    "            'n_estimators': [50, 100]\n",
    "        }),\n",
    "        ('XGBoost', XGBClassifier(use_label_encoder=False, eval_metric='logloss', random_state=42), {\n",
    "            'n_estimators': [100, 200],\n",
    "            'learning_rate': [0.05, 0.1],\n",
    "            'max_depth': [3, 5]\n",
    "        })\n",
    "    ]\n",
    "    \n",
    "    print(\"\\nCLASSIFICATION RESULTS:\\n\")\n",
    "\n",
    "    for name, modelS, params in models:  # Iterate over models list, not the function\n",
    "        if params:\n",
    "            grid = GridSearchCV(modelS, params, cv=3, scoring='accuracy', n_jobs=-1)\n",
    "            grid.fit(X_train, y_train)\n",
    "            best_model = grid.best_estimator_\n",
    "            best_params = grid.best_params_\n",
    "        else:\n",
    "            modelS.fit(X_train, y_train)\n",
    "            best_model = modelS\n",
    "            best_params = \"Default parameters\"\n",
    "\n",
    "        preds = best_model.predict(X_test)\n",
    "        acc = accuracy_score(y_test, preds)\n",
    "\n",
    "        print(f\"🔸 {name}: Accuracy = {acc:.4f}\")\n",
    "        print(f\"Best Parameters: {best_params}\")\n",
    "        print(classification_report(y_test, preds))\n",
    "        print('-' * 60)\n",
    "\n",
    "# How to run the evaluation → just this, nothing else:\n",
    "evaluate_models(X_train_n, X_test_n, y_train_n, y_test_n)"
   ]
  },
  {
   "cell_type": "markdown",
   "id": "e3d7406b",
   "metadata": {},
   "source": [
    "# Final Project Observations and Conclusion\n",
    "\n",
    "## 1️⃣ Age Analysis:\n",
    "\n",
    "- The **youngest patient** diagnosed with heart disease in this dataset is **28 years old**.\n",
    "- **Most patients** with heart disease are between **53 to 54 years of age**.\n",
    "- Both **males and females** tend to develop heart disease most commonly around **54 to 55 years of age**.\n",
    "- **Conclusion:** As people grow older, especially after 50, their risk of heart disease increases.\n",
    "\n",
    "## 2️⃣ Gender Distribution in the Dataset:\n",
    "\n",
    "- **Male Patients:** 78.91%\n",
    "- **Female Patients:** 21.09%\n",
    "- There are **almost 3 times more males** than females in this dataset.\n",
    "- **Conclusion:** This shows that either **heart disease affects males more frequently**, or that **more male data was collected** in this study.\n",
    "\n",
    "## 3️⃣ Origin (Place of Study) Distribution:\n",
    "\n",
    "- **Highest number of patients:** Cleveland (304 patients)\n",
    "- **Lowest number of patients:** Switzerland (123 patients)\n",
    "- **Females:** Most from Cleveland, least from VA Long Beach\n",
    "- **Males:** Most from Hungary, least from VA Switzerland\n",
    "- **Conclusion:** Cleveland contributed the largest portion of the data, giving us stronger insights for that location.\n",
    "\n",
    "## 4️⃣ Age Statistics by Dataset Location:\n",
    "\n",
    "- Across different places of study, the **average (mean) patient age** is typically between **50-55 years**.\n",
    "- The **median** and **mode** (most common age) also fall within this range.\n",
    "- **Conclusion:** Heart disease is most common among people in their **early to mid-50s** in this dataset.\n",
    "\n",
    "## 5️⃣ Observations on Chest Pain Type (`cp` Feature):\n",
    "\n",
    "- The **type of chest pain** a patient experiences gives strong clues about whether they might have heart disease.\n",
    "- **Asymptomatic chest pain (Type 4)** is **strongly linked** to patients who have heart disease.\n",
    "- **Typical and atypical angina (Types 1 & 2)** are more often seen in people **without** heart disease.\n",
    "- **Conclusion:** Doctors should pay special attention to **asymptomatic chest pain** when screening for heart disease.\n",
    "\n",
    "## 6️⃣ Missing Value Treatment (Imputation Process):\n",
    "\n",
    "1. First, we found which columns had missing data.\n",
    "2. **Categorical columns** (e.g., gender, chest pain type) were filled with their **most common category (mode)**.\n",
    "3. **Numerical columns** (e.g., age, cholesterol) were filled with the **median** value.\n",
    "4. **Why this method?** The median is not affected by extreme values (outliers), and the mode keeps category proportions correct.\n",
    "\n",
    "- **Conclusion:** This approach helped maintain the dataset’s balance and prevented bias.\n",
    "\n",
    "## 7️⃣ Outlier Detection and Handling:\n",
    "\n",
    "1. Used **boxplots** and the **IQR (Interquartile Range)** method to find unusual extreme values.\n",
    "2. For important features like `chol`, `trestbps`, and `thalach`, we either **limited extreme values (capping)** or **removed them** if they were clearly incorrect.\n",
    "3. **Conclusion:** Handling outliers ensured that the model was not affected by unrealistic or misleading data points.\n",
    "\n",
    "## 8️⃣ Other Feature Insights:\n",
    "\n",
    "- **Serum Cholesterol (`chol`):** Large variation but doesn’t strongly predict heart disease on its own.\n",
    "- **Maximum Heart Rate (`thalach`):** People with **lower maximum heart rates** were more likely to have heart disease.\n",
    "- **ST Depression (`oldpeak`):** **Higher values of `oldpeak`** are linked to heart disease.\n",
    "- **Number of Major Vessels (`ca`)** and **Thalassemia (`thal`)** were also very **important features** in predicting heart disease.\n",
    "- **Conclusion:** These features play an important role in predicting risk, especially when used together.\n",
    "\n",
    "## 9️⃣ Model Output and Performance Observations:\n",
    "\n",
    "- **Best Performing Models:** Random Forest and XGBoost\n",
    "- **Accuracy:** Around **85% to 90%**\n",
    "- **Other Models:** Logistic Regression and SVM performed well but were slightly weaker for this dataset’s complexity.\n",
    "- **Naive Bayes:** Weakest performance due to feature relationships.\n",
    "- **Top Important Features Identified by Models:**\n",
    "  1. Chest Pain Type (`cp`)\n",
    "  2. Number of Major Vessels (`ca`)\n",
    "  3. Thalassemia (`thal`)\n",
    "  4. Maximum Heart Rate (`thalach`)\n",
    "  5. ST Depression (`oldpeak`)\n",
    "- **Conclusion:** Ensemble models like **Random Forest** and **XGBoost** are **highly recommended** for predicting heart disease in similar datasets.\n",
    "\n",
    "## Final Conclusion and Next Steps:\n",
    "\n",
    "- This project successfully showed how **machine learning can predict heart disease** based on medical features.\n",
    "- **Key Insight:** Early identification of high-risk patients can **help save lives by providing quicker treatment**.\n",
    "- **Future Improvements:**\n",
    "  - Collect a **more balanced dataset**, especially including more female patients.\n",
    "  - Use **advanced techniques like deep learning** or ensemble stacking for better accuracy.\n",
    "  - Build an **interactive web app** or **dashboard** for real-time predictions in healthcare systems.\n"
   ]
  }
 ],
 "metadata": {
  "kernelspec": {
   "display_name": "Python 3",
   "language": "python",
   "name": "python3"
  },
  "language_info": {
   "codemirror_mode": {
    "name": "ipython",
    "version": 3
   },
   "file_extension": ".py",
   "mimetype": "text/x-python",
   "name": "python",
   "nbconvert_exporter": "python",
   "pygments_lexer": "ipython3",
   "version": "3.13.5"
  }
 },
 "nbformat": 4,
 "nbformat_minor": 5
}
